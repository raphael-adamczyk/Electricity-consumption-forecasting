{
 "cells": [
  {
   "cell_type": "markdown",
   "metadata": {},
   "source": [
    "# Projet 9: [Prédisez la demande en électricité](#M0)"
   ]
  },
  {
   "cell_type": "markdown",
   "metadata": {},
   "source": [
    "# Table des matières  <a id=\"sommaire\" name=\"sommaire\"></a>\n",
    "           \n",
    "**[Mission 0](#M0)**\n",
    "- [Découverte des données](#M01)\n",
    "    - [1. Données mensuelles de consommation d'électricité](#M011)\n",
    "    - [2. Données mensuelles de la température due au chauffage électrique](#M012)\n",
    "\n",
    "**[Mission 1](#M1)**\n",
    "- [1. Correction des données de consommation mensuelles de l'effet température par régression linéaire](#M11)\n",
    "    - [a) Régression linéaire sur la série temporelle](#M111)\n",
    "    - [b) Correction de l'effet température sur la consommation](#M112)\n",
    "- [2. Décomposition de la consommation corrigée](#M12)\n",
    "\n",
    "**[Mission 2](#M2)**\n",
    "- [Désaisonnalisation de la consommation corrigée grâce aux moyennes mobiles](#M21)\n",
    "\n",
    "**[Mission 3](#M3)**\n",
    "- [Prévision de la consommation corrigée sur un an](#M31)\n",
    "    - [1. Méthode de Holt Winters](#M311)\n",
    "        - [a) Modèle de Holt-Winters additif avec erreurs additives](#M31)\n",
    "        - [b) Modèle de Holt-Winters additif avec erreurs multiplicatives](#M32)\n",
    "    - [2. Méthode SARIMA](#M312)\n",
    "        - [a) Détermination du modèle](#M3121)\n",
    "        - [b) Validation du modèle](#M3122)\n",
    "        - [c) Prédiction de la consommation corrigée](#M3123)\n",
    "            - [Analyse a posteriori](#M31231)\n",
    "    \n",
    "**[Mission 4](#M4)**\n",
    "- [Prévision de la consommation initiale sur un an](#M41)"
   ]
  },
  {
   "cell_type": "code",
   "execution_count": 1,
   "metadata": {},
   "outputs": [
    {
     "name": "stderr",
     "output_type": "stream",
     "text": [
      "Warning message:\n",
      "\"package 'tibble' was built under R version 3.6.3\"Warning message:\n",
      "\"package 'dplyr' was built under R version 3.6.3\"\n",
      "Attaching package: 'dplyr'\n",
      "\n",
      "The following objects are masked from 'package:stats':\n",
      "\n",
      "    filter, lag\n",
      "\n",
      "The following objects are masked from 'package:base':\n",
      "\n",
      "    intersect, setdiff, setequal, union\n",
      "\n",
      "Warning message:\n",
      "\"package 'tidyr' was built under R version 3.6.3\"Warning message:\n",
      "\"package 'openxlsx' was built under R version 3.6.3\"Warning message:\n",
      "\"package 'reshape2' was built under R version 3.6.3\"\n",
      "Attaching package: 'reshape2'\n",
      "\n",
      "The following object is masked from 'package:tidyr':\n",
      "\n",
      "    smiths\n",
      "\n",
      "Warning message:\n",
      "\"package 'lubridate' was built under R version 3.6.3\"\n",
      "Attaching package: 'lubridate'\n",
      "\n",
      "The following objects are masked from 'package:base':\n",
      "\n",
      "    date, intersect, setdiff, union\n",
      "\n",
      "Warning message:\n",
      "\"package 'ggplot2' was built under R version 3.6.3\"Warning message:\n",
      "\"package 'ggfortify' was built under R version 3.6.3\"Warning message:\n",
      "\"package 'car' was built under R version 3.6.3\"Loading required package: carData\n",
      "Warning message:\n",
      "\"package 'carData' was built under R version 3.6.3\"\n",
      "Attaching package: 'car'\n",
      "\n",
      "The following object is masked from 'package:dplyr':\n",
      "\n",
      "    recode\n",
      "\n",
      "Warning message:\n",
      "\"package 'forecast' was built under R version 3.6.3\"Registered S3 method overwritten by 'quantmod':\n",
      "  method            from\n",
      "  as.zoo.data.frame zoo \n",
      "Registered S3 methods overwritten by 'forecast':\n",
      "  method                 from     \n",
      "  autoplot.Arima         ggfortify\n",
      "  autoplot.acf           ggfortify\n",
      "  autoplot.ar            ggfortify\n",
      "  autoplot.bats          ggfortify\n",
      "  autoplot.decomposed.ts ggfortify\n",
      "  autoplot.ets           ggfortify\n",
      "  autoplot.forecast      ggfortify\n",
      "  autoplot.stl           ggfortify\n",
      "  autoplot.ts            ggfortify\n",
      "  fitted.ar              ggfortify\n",
      "  fortify.ts             ggfortify\n",
      "  residuals.ar           ggfortify\n",
      "Warning message:\n",
      "\"package 'tseries' was built under R version 3.6.3\"Warning message:\n",
      "\"package 'caschrono' was built under R version 3.6.3\"Loading required package: zoo\n",
      "Warning message:\n",
      "\"package 'zoo' was built under R version 3.6.3\"\n",
      "Attaching package: 'zoo'\n",
      "\n",
      "The following objects are masked from 'package:base':\n",
      "\n",
      "    as.Date, as.Date.numeric\n",
      "\n",
      "Warning message:\n",
      "\"package 'latex2exp' was built under R version 3.6.3\""
     ]
    }
   ],
   "source": [
    "library(tibble)\n",
    "library(dplyr) \n",
    "library(tidyr)\n",
    "library(repr)\n",
    "library(openxlsx) \n",
    "library(reshape2) # Commandes dcast, melt\n",
    "library(lubridate) # Formatage de dates\n",
    "library(ggplot2)\n",
    "library(ggfortify) # autoplot (marche de paire avec ggplot2)\n",
    "library(car) # Test de Durbin-Watson \n",
    "library(normtest) # Test de Jarque-Bera\n",
    "library(forecast) # Prédiction méthode Holt-Winters, etc\n",
    "library(tseries) # Test de stationnarité Dickey-Fuller\n",
    "library(caschrono) # contient la commande Box.test.2\n",
    "library(latex2exp) # formules Latex"
   ]
  },
  {
   "cell_type": "code",
   "execution_count": 2,
   "metadata": {},
   "outputs": [],
   "source": [
    "options(repr.matrix.max.rows = 10, repr.matrix.max.cols = 18)"
   ]
  },
  {
   "cell_type": "markdown",
   "metadata": {},
   "source": [
    "<a href=\"#sommaire\">Retour au sommaire</a>\n",
    "# Mission 0.<a name=\"M0\"></a>\n",
    "# <span style='color:red'>Découverte des données.<a name=\"M01\"></a>\n",
    "## <span style='color:blue'>1. Données mensuelles de consommation d'électricité.<a name=\"M011\"></a>"
   ]
  },
  {
   "cell_type": "code",
   "execution_count": 3,
   "metadata": {
    "scrolled": false
   },
   "outputs": [
    {
     "data": {
      "text/html": [
       "<ol class=list-inline>\n",
       "\t<li>1143</li>\n",
       "\t<li>22</li>\n",
       "</ol>\n"
      ],
      "text/latex": [
       "\\begin{enumerate*}\n",
       "\\item 1143\n",
       "\\item 22\n",
       "\\end{enumerate*}\n"
      ],
      "text/markdown": [
       "1. 1143\n",
       "2. 22\n",
       "\n",
       "\n"
      ],
      "text/plain": [
       "[1] 1143   22"
      ]
     },
     "metadata": {},
     "output_type": "display_data"
    },
    {
     "data": {
      "text/html": [
       "<table>\n",
       "<thead><tr><th scope=col>Mois</th><th scope=col>Qualité</th><th scope=col>Territoire</th><th scope=col>Production totale</th><th scope=col>Production nucléaire</th><th scope=col>Production thermique totale</th><th scope=col>Production thermique charbon</th><th scope=col>Production thermique fioul</th><th scope=col>Production thermique gaz</th><th scope=col>...</th><th scope=col>Consommation totale</th><th scope=col>Solde exportateur</th><th scope=col>Echanges export</th><th scope=col>Echanges import</th><th scope=col>Echanges avec le Royaume-uni</th><th scope=col>Echanges avec l'Espagne</th><th scope=col>Echanges avec l'Italie</th><th scope=col>Echanges aves la Suisse</th><th scope=col>Echanges avec l'Allemagne et la Belgique</th></tr></thead>\n",
       "<tbody>\n",
       "\t<tr><td>0000-00                </td><td>Données consolidées    </td><td>Grand-Est              </td><td>11346                  </td><td>8643                   </td><td>1120                   </td><td>22                     </td><td> 2                     </td><td>1095                   </td><td>...                    </td><td>4545                   </td><td> 6711                  </td><td>NA                     </td><td>NA                     </td><td>NA                     </td><td>NA                     </td><td>NA                     </td><td>NA                     </td><td>NA                     </td></tr>\n",
       "\t<tr><td>0000-00                </td><td>Données consolidées    </td><td>Nouvelle-Aquitaine     </td><td> 5289                  </td><td>4179                   </td><td> 164                   </td><td>NA                     </td><td> 0                     </td><td> 164                   </td><td>...                    </td><td>4578                   </td><td>  711                  </td><td>NA                     </td><td>NA                     </td><td>NA                     </td><td>NA                     </td><td>NA                     </td><td>NA                     </td><td>NA                     </td></tr>\n",
       "\t<tr><td>0000-00                </td><td>Données consolidées    </td><td>Auvergne-Rhône-Alpes   </td><td>11622                  </td><td>8382                   </td><td> 334                   </td><td> 6                     </td><td>11                     </td><td> 316                   </td><td>...                    </td><td>6834                   </td><td> 4483                  </td><td>NA                     </td><td>NA                     </td><td>NA                     </td><td>NA                     </td><td>NA                     </td><td>NA                     </td><td>NA                     </td></tr>\n",
       "\t<tr><td>0000-00                </td><td>Données consolidées    </td><td>Bourgogne-Franche-Comté</td><td>  467                  </td><td>  NA                   </td><td> 124                   </td><td>NA                     </td><td> 0                     </td><td> 123                   </td><td>...                    </td><td>2188                   </td><td>-1724                  </td><td>NA                     </td><td>NA                     </td><td>NA                     </td><td>NA                     </td><td>NA                     </td><td>NA                     </td><td>NA                     </td></tr>\n",
       "\t<tr><td>0000-00                </td><td>Données consolidées    </td><td>Bretagne               </td><td>  535                  </td><td>  NA                   </td><td> 182                   </td><td>NA                     </td><td> 4                     </td><td> 178                   </td><td>...                    </td><td>2443                   </td><td>-1915                  </td><td>NA                     </td><td>NA                     </td><td>NA                     </td><td>NA                     </td><td>NA                     </td><td>NA                     </td><td>NA                     </td></tr>\n",
       "\t<tr><td>...</td><td>...</td><td>...</td><td>...</td><td>...</td><td>...</td><td>...</td><td>...</td><td>...</td><td>   </td><td>...</td><td>...</td><td>...</td><td>...</td><td>...</td><td>...</td><td>...</td><td>...</td><td>...</td></tr>\n",
       "\t<tr><td>2020-02            </td><td>Données consolidées</td><td>Occitanie          </td><td>3243               </td><td>1583               </td><td> 63                </td><td>NA                 </td><td> 0                 </td><td> 63                </td><td>...                </td><td>3336               </td><td> -269              </td><td>NA                 </td><td>NA                 </td><td>NA                 </td><td>NA                 </td><td>NA                 </td><td>NA                 </td><td>NA                 </td></tr>\n",
       "\t<tr><td>2020-02            </td><td>Données consolidées</td><td>Normandie          </td><td>4739               </td><td>4074               </td><td>284                </td><td>-5                 </td><td>29                 </td><td>260                </td><td>...                </td><td>2619               </td><td> 2120              </td><td>NA                 </td><td>NA                 </td><td>NA                 </td><td>NA                 </td><td>NA                 </td><td>NA                 </td><td>NA                 </td></tr>\n",
       "\t<tr><td>2020-02            </td><td>Données consolidées</td><td>Hauts-de-France    </td><td>5572               </td><td>2852               </td><td>815                </td><td> 0                 </td><td> 5                 </td><td>809                </td><td>...                </td><td>4578               </td><td>  994              </td><td>NA                 </td><td>NA                 </td><td>NA                 </td><td>NA                 </td><td>NA                 </td><td>NA                 </td><td>NA                 </td></tr>\n",
       "\t<tr><td>2020-02            </td><td>Données consolidées</td><td>PACA               </td><td>2039               </td><td>  NA               </td><td>591                </td><td> 0                 </td><td>14                 </td><td>577                </td><td>...                </td><td>3598               </td><td>-1565              </td><td>NA                 </td><td>NA                 </td><td>NA                 </td><td>NA                 </td><td>NA                 </td><td>NA                 </td><td>NA                 </td></tr>\n",
       "\t<tr><td>2020-02            </td><td>Données consolidées</td><td>Pays-de-la-Loire   </td><td> 739               </td><td>  NA               </td><td>338                </td><td>66                 </td><td>13                 </td><td>257                </td><td>...                </td><td>2532               </td><td>-1792              </td><td>NA                 </td><td>NA                 </td><td>NA                 </td><td>NA                 </td><td>NA                 </td><td>NA                 </td><td>NA                 </td></tr>\n",
       "</tbody>\n",
       "</table>\n"
      ],
      "text/latex": [
       "\\begin{tabular}{r|llllllllllllllllllllll}\n",
       " Mois & Qualité & Territoire & Production totale & Production nucléaire & Production thermique totale & Production thermique charbon & Production thermique fioul & Production thermique gaz & ... & Consommation totale & Solde exportateur & Echanges export & Echanges import & Echanges avec le Royaume-uni & Echanges avec l'Espagne & Echanges avec l'Italie & Echanges aves la Suisse & Echanges avec l'Allemagne et la Belgique\\\\\n",
       "\\hline\n",
       "\t 0000-00                 & Données consolidées     & Grand-Est               & 11346                   & 8643                    & 1120                    & 22                      &  2                      & 1095                    & ...                     & 4545                    &  6711                   & NA                      & NA                      & NA                      & NA                      & NA                      & NA                      & NA                     \\\\\n",
       "\t 0000-00                 & Données consolidées     & Nouvelle-Aquitaine      &  5289                   & 4179                    &  164                    & NA                      &  0                      &  164                    & ...                     & 4578                    &   711                   & NA                      & NA                      & NA                      & NA                      & NA                      & NA                      & NA                     \\\\\n",
       "\t 0000-00                 & Données consolidées     & Auvergne-Rhône-Alpes    & 11622                   & 8382                    &  334                    &  6                      & 11                      &  316                    & ...                     & 6834                    &  4483                   & NA                      & NA                      & NA                      & NA                      & NA                      & NA                      & NA                     \\\\\n",
       "\t 0000-00                 & Données consolidées     & Bourgogne-Franche-Comté &   467                   &   NA                    &  124                    & NA                      &  0                      &  123                    & ...                     & 2188                    & -1724                   & NA                      & NA                      & NA                      & NA                      & NA                      & NA                      & NA                     \\\\\n",
       "\t 0000-00                 & Données consolidées     & Bretagne                &   535                   &   NA                    &  182                    & NA                      &  4                      &  178                    & ...                     & 2443                    & -1915                   & NA                      & NA                      & NA                      & NA                      & NA                      & NA                      & NA                     \\\\\n",
       "\t ... & ... & ... & ... & ... & ... & ... & ... & ... &     & ... & ... & ... & ... & ... & ... & ... & ... & ...\\\\\n",
       "\t 2020-02             & Données consolidées & Occitanie           & 3243                & 1583                &  63                 & NA                  &  0                  &  63                 & ...                 & 3336                &  -269               & NA                  & NA                  & NA                  & NA                  & NA                  & NA                  & NA                 \\\\\n",
       "\t 2020-02             & Données consolidées & Normandie           & 4739                & 4074                & 284                 & -5                  & 29                  & 260                 & ...                 & 2619                &  2120               & NA                  & NA                  & NA                  & NA                  & NA                  & NA                  & NA                 \\\\\n",
       "\t 2020-02             & Données consolidées & Hauts-de-France     & 5572                & 2852                & 815                 &  0                  &  5                  & 809                 & ...                 & 4578                &   994               & NA                  & NA                  & NA                  & NA                  & NA                  & NA                  & NA                 \\\\\n",
       "\t 2020-02             & Données consolidées & PACA                & 2039                &   NA                & 591                 &  0                  & 14                  & 577                 & ...                 & 3598                & -1565               & NA                  & NA                  & NA                  & NA                  & NA                  & NA                  & NA                 \\\\\n",
       "\t 2020-02             & Données consolidées & Pays-de-la-Loire    &  739                &   NA                & 338                 & 66                  & 13                  & 257                 & ...                 & 2532                & -1792               & NA                  & NA                  & NA                  & NA                  & NA                  & NA                  & NA                 \\\\\n",
       "\\end{tabular}\n"
      ],
      "text/markdown": [
       "\n",
       "| Mois | Qualité | Territoire | Production totale | Production nucléaire | Production thermique totale | Production thermique charbon | Production thermique fioul | Production thermique gaz | ... | Consommation totale | Solde exportateur | Echanges export | Echanges import | Echanges avec le Royaume-uni | Echanges avec l'Espagne | Echanges avec l'Italie | Echanges aves la Suisse | Echanges avec l'Allemagne et la Belgique |\n",
       "|---|---|---|---|---|---|---|---|---|---|---|---|---|---|---|---|---|---|---|\n",
       "| 0000-00                 | Données consolidées     | Grand-Est               | 11346                   | 8643                    | 1120                    | 22                      |  2                      | 1095                    | ...                     | 4545                    |  6711                   | NA                      | NA                      | NA                      | NA                      | NA                      | NA                      | NA                      |\n",
       "| 0000-00                 | Données consolidées     | Nouvelle-Aquitaine      |  5289                   | 4179                    |  164                    | NA                      |  0                      |  164                    | ...                     | 4578                    |   711                   | NA                      | NA                      | NA                      | NA                      | NA                      | NA                      | NA                      |\n",
       "| 0000-00                 | Données consolidées     | Auvergne-Rhône-Alpes    | 11622                   | 8382                    |  334                    |  6                      | 11                      |  316                    | ...                     | 6834                    |  4483                   | NA                      | NA                      | NA                      | NA                      | NA                      | NA                      | NA                      |\n",
       "| 0000-00                 | Données consolidées     | Bourgogne-Franche-Comté |   467                   |   NA                    |  124                    | NA                      |  0                      |  123                    | ...                     | 2188                    | -1724                   | NA                      | NA                      | NA                      | NA                      | NA                      | NA                      | NA                      |\n",
       "| 0000-00                 | Données consolidées     | Bretagne                |   535                   |   NA                    |  182                    | NA                      |  4                      |  178                    | ...                     | 2443                    | -1915                   | NA                      | NA                      | NA                      | NA                      | NA                      | NA                      | NA                      |\n",
       "| ... | ... | ... | ... | ... | ... | ... | ... | ... |     | ... | ... | ... | ... | ... | ... | ... | ... | ... |\n",
       "| 2020-02             | Données consolidées | Occitanie           | 3243                | 1583                |  63                 | NA                  |  0                  |  63                 | ...                 | 3336                |  -269               | NA                  | NA                  | NA                  | NA                  | NA                  | NA                  | NA                  |\n",
       "| 2020-02             | Données consolidées | Normandie           | 4739                | 4074                | 284                 | -5                  | 29                  | 260                 | ...                 | 2619                |  2120               | NA                  | NA                  | NA                  | NA                  | NA                  | NA                  | NA                  |\n",
       "| 2020-02             | Données consolidées | Hauts-de-France     | 5572                | 2852                | 815                 |  0                  |  5                  | 809                 | ...                 | 4578                |   994               | NA                  | NA                  | NA                  | NA                  | NA                  | NA                  | NA                  |\n",
       "| 2020-02             | Données consolidées | PACA                | 2039                |   NA                | 591                 |  0                  | 14                  | 577                 | ...                 | 3598                | -1565               | NA                  | NA                  | NA                  | NA                  | NA                  | NA                  | NA                  |\n",
       "| 2020-02             | Données consolidées | Pays-de-la-Loire    |  739                |   NA                | 338                 | 66                  | 13                  | 257                 | ...                 | 2532                | -1792               | NA                  | NA                  | NA                  | NA                  | NA                  | NA                  | NA                  |\n",
       "\n"
      ],
      "text/plain": [
       "     Mois    Qualité             Territoire              Production totale\n",
       "1    0000-00 Données consolidées Grand-Est               11346            \n",
       "2    0000-00 Données consolidées Nouvelle-Aquitaine       5289            \n",
       "3    0000-00 Données consolidées Auvergne-Rhône-Alpes    11622            \n",
       "4    0000-00 Données consolidées Bourgogne-Franche-Comté   467            \n",
       "5    0000-00 Données consolidées Bretagne                  535            \n",
       "...  ...     ...                 ...                     ...              \n",
       "1139 2020-02 Données consolidées Occitanie               3243             \n",
       "1140 2020-02 Données consolidées Normandie               4739             \n",
       "1141 2020-02 Données consolidées Hauts-de-France         5572             \n",
       "1142 2020-02 Données consolidées PACA                    2039             \n",
       "1143 2020-02 Données consolidées Pays-de-la-Loire         739             \n",
       "     Production nucléaire Production thermique totale\n",
       "1    8643                 1120                       \n",
       "2    4179                  164                       \n",
       "3    8382                  334                       \n",
       "4      NA                  124                       \n",
       "5      NA                  182                       \n",
       "...  ...                  ...                        \n",
       "1139 1583                  63                        \n",
       "1140 4074                 284                        \n",
       "1141 2852                 815                        \n",
       "1142   NA                 591                        \n",
       "1143   NA                 338                        \n",
       "     Production thermique charbon Production thermique fioul\n",
       "1    22                            2                        \n",
       "2    NA                            0                        \n",
       "3     6                           11                        \n",
       "4    NA                            0                        \n",
       "5    NA                            4                        \n",
       "...  ...                          ...                       \n",
       "1139 NA                            0                        \n",
       "1140 -5                           29                        \n",
       "1141  0                            5                        \n",
       "1142  0                           14                        \n",
       "1143 66                           13                        \n",
       "     Production thermique gaz ... Consommation totale Solde exportateur\n",
       "1    1095                     ... 4545                 6711            \n",
       "2     164                     ... 4578                  711            \n",
       "3     316                     ... 6834                 4483            \n",
       "4     123                     ... 2188                -1724            \n",
       "5     178                     ... 2443                -1915            \n",
       "...  ...                          ...                 ...              \n",
       "1139  63                      ... 3336                 -269            \n",
       "1140 260                      ... 2619                 2120            \n",
       "1141 809                      ... 4578                  994            \n",
       "1142 577                      ... 3598                -1565            \n",
       "1143 257                      ... 2532                -1792            \n",
       "     Echanges export Echanges import Echanges avec le Royaume-uni\n",
       "1    NA              NA              NA                          \n",
       "2    NA              NA              NA                          \n",
       "3    NA              NA              NA                          \n",
       "4    NA              NA              NA                          \n",
       "5    NA              NA              NA                          \n",
       "...  ...             ...             ...                         \n",
       "1139 NA              NA              NA                          \n",
       "1140 NA              NA              NA                          \n",
       "1141 NA              NA              NA                          \n",
       "1142 NA              NA              NA                          \n",
       "1143 NA              NA              NA                          \n",
       "     Echanges avec l'Espagne Echanges avec l'Italie Echanges aves la Suisse\n",
       "1    NA                      NA                     NA                     \n",
       "2    NA                      NA                     NA                     \n",
       "3    NA                      NA                     NA                     \n",
       "4    NA                      NA                     NA                     \n",
       "5    NA                      NA                     NA                     \n",
       "...  ...                     ...                    ...                    \n",
       "1139 NA                      NA                     NA                     \n",
       "1140 NA                      NA                     NA                     \n",
       "1141 NA                      NA                     NA                     \n",
       "1142 NA                      NA                     NA                     \n",
       "1143 NA                      NA                     NA                     \n",
       "     Echanges avec l'Allemagne et la Belgique\n",
       "1    NA                                      \n",
       "2    NA                                      \n",
       "3    NA                                      \n",
       "4    NA                                      \n",
       "5    NA                                      \n",
       "...  ...                                     \n",
       "1139 NA                                      \n",
       "1140 NA                                      \n",
       "1141 NA                                      \n",
       "1142 NA                                      \n",
       "1143 NA                                      "
      ]
     },
     "metadata": {},
     "output_type": "display_data"
    }
   ],
   "source": [
    "conso <- read.xlsx('Fichiers/Conso.xlsx', sep.names = \" \")\n",
    "dim(conso)\n",
    "conso"
   ]
  },
  {
   "cell_type": "code",
   "execution_count": 4,
   "metadata": {
    "scrolled": true
   },
   "outputs": [
    {
     "data": {
      "text/plain": [
       "     Mois             Qualité           Territoire        Production totale\n",
       " Length:1143        Length:1143        Length:1143        Min.   :   63.0  \n",
       " Class :character   Class :character   Class :character   1st Qu.:  561.5  \n",
       " Mode  :character   Mode  :character   Mode  :character   Median : 3669.0  \n",
       "                                                          Mean   : 7354.3  \n",
       "                                                          3rd Qu.: 7313.5  \n",
       "                                                          Max.   :58310.0  \n",
       "                                                                           \n",
       " Production nucléaire Production thermique totale Production thermique charbon\n",
       " Min.   :  618        Min.   :  -3.0              Min.   : -10                \n",
       " 1st Qu.: 3191        1st Qu.:  34.0              1st Qu.:   0                \n",
       " Median : 5381        Median : 177.0              Median :  23                \n",
       " Mean   : 8707        Mean   : 557.4              Mean   : 183                \n",
       " 3rd Qu.: 7389        3rd Qu.: 547.0              3rd Qu.: 218                \n",
       " Max.   :43792        Max.   :8721.0              Max.   :2833                \n",
       " NA's   :435                                      NA's   :374                 \n",
       " Production thermique fioul Production thermique gaz Production hydraulique\n",
       " Min.   :  -4.0             Min.   :  -1.0           Min.   :   0.0        \n",
       " 1st Qu.:   0.0             1st Qu.:  18.0           1st Qu.:   5.0        \n",
       " Median :   7.0             Median : 124.0           Median :  71.0        \n",
       " Mean   :  36.8             Mean   : 396.9           Mean   : 869.3        \n",
       " 3rd Qu.:  24.5             3rd Qu.: 357.5           3rd Qu.: 857.5        \n",
       " Max.   :1309.0             Max.   :5910.0           Max.   :8607.0        \n",
       "                                                                           \n",
       " Production éolien Production solaire Production bio-énergies\n",
       " Min.   :   0.0    Min.   :   0.0     Min.   :  2.0          \n",
       " 1st Qu.:  59.5    1st Qu.:  12.0     1st Qu.: 34.0          \n",
       " Median : 118.0    Median :  30.0     Median : 59.0          \n",
       " Mean   : 313.3    Mean   : 105.7     Mean   :113.1          \n",
       " 3rd Qu.: 262.0    3rd Qu.: 102.5     3rd Qu.: 92.0          \n",
       " Max.   :5806.0    Max.   :1461.0     Max.   :927.0          \n",
       "                                                             \n",
       " Consommation totale Solde exportateur Echanges export Echanges import\n",
       " Min.   :    0       Min.   :-7949.0   Min.   :3536    Min.   : 643   \n",
       " 1st Qu.: 1794       1st Qu.:-1511.0   1st Qu.:6298    1st Qu.:2124   \n",
       " Median : 2948       Median :    0.0   Median :7043    Median :2483   \n",
       " Mean   : 6088       Mean   :  736.1   Mean   :6963    Mean   :2658   \n",
       " 3rd Qu.: 4570       3rd Qu.: 3731.0   3rd Qu.:7835    3rd Qu.:3232   \n",
       " Max.   :57406       Max.   : 7928.0   Max.   :9468    Max.   :5453   \n",
       "                     NA's   :84        NA's   :1044    NA's   :1044   \n",
       " Echanges avec le Royaume-uni Echanges avec l'Espagne Echanges avec l'Italie\n",
       " Min.   :-798.0               Min.   :-726.0          Min.   : 343          \n",
       " 1st Qu.: 759.0               1st Qu.: 129.5          1st Qu.:1234          \n",
       " Median :1011.0               Median : 543.0          Median :1522          \n",
       " Mean   : 918.6               Mean   : 602.0          Mean   :1490          \n",
       " 3rd Qu.:1247.0               3rd Qu.:1073.5          3rd Qu.:1776          \n",
       " Max.   :1450.0               Max.   :2021.0          Max.   :2272          \n",
       " NA's   :1044                 NA's   :1044            NA's   :1044          \n",
       " Echanges aves la Suisse Echanges avec l'Allemagne et la Belgique\n",
       " Min.   :-322.0          Min.   :-2912.0                         \n",
       " 1st Qu.: 621.5          1st Qu.: -765.0                         \n",
       " Median :1186.0          Median :  155.0                         \n",
       " Mean   :1146.7          Mean   :  146.6                         \n",
       " 3rd Qu.:1605.5          3rd Qu.:  926.5                         \n",
       " Max.   :2235.0          Max.   : 2642.0                         \n",
       " NA's   :1044            NA's   :1044                            "
      ]
     },
     "metadata": {},
     "output_type": "display_data"
    }
   ],
   "source": [
    "summary(conso)"
   ]
  },
  {
   "cell_type": "markdown",
   "metadata": {},
   "source": [
    "L'étude portera sur la Nouvelle-Aquitaine et sera restreinte du 1er janvier 2014 au 31 décembre 2018, pour avoir une périodicité entière lors de l'analyse en série temporelle."
   ]
  },
  {
   "cell_type": "code",
   "execution_count": 5,
   "metadata": {
    "scrolled": false
   },
   "outputs": [
    {
     "data": {
      "text/html": [
       "<table>\n",
       "<thead><tr><th scope=col>Mois</th><th scope=col>Consommation totale</th></tr></thead>\n",
       "<tbody>\n",
       "\t<tr><td>2014-01</td><td>4501   </td></tr>\n",
       "\t<tr><td>2014-02</td><td>4184   </td></tr>\n",
       "\t<tr><td>2014-03</td><td>3993   </td></tr>\n",
       "\t<tr><td>2014-04</td><td>3237   </td></tr>\n",
       "\t<tr><td>2014-05</td><td>3100   </td></tr>\n",
       "\t<tr><td>...</td><td>...</td></tr>\n",
       "\t<tr><td>2018-08</td><td>3135   </td></tr>\n",
       "\t<tr><td>2018-09</td><td>2953   </td></tr>\n",
       "\t<tr><td>2018-10</td><td>3315   </td></tr>\n",
       "\t<tr><td>2018-11</td><td>4024   </td></tr>\n",
       "\t<tr><td>2018-12</td><td>4295   </td></tr>\n",
       "</tbody>\n",
       "</table>\n"
      ],
      "text/latex": [
       "\\begin{tabular}{r|ll}\n",
       " Mois & Consommation totale\\\\\n",
       "\\hline\n",
       "\t 2014-01 & 4501   \\\\\n",
       "\t 2014-02 & 4184   \\\\\n",
       "\t 2014-03 & 3993   \\\\\n",
       "\t 2014-04 & 3237   \\\\\n",
       "\t 2014-05 & 3100   \\\\\n",
       "\t ... & ...\\\\\n",
       "\t 2018-08 & 3135   \\\\\n",
       "\t 2018-09 & 2953   \\\\\n",
       "\t 2018-10 & 3315   \\\\\n",
       "\t 2018-11 & 4024   \\\\\n",
       "\t 2018-12 & 4295   \\\\\n",
       "\\end{tabular}\n"
      ],
      "text/markdown": [
       "\n",
       "| Mois | Consommation totale |\n",
       "|---|---|\n",
       "| 2014-01 | 4501    |\n",
       "| 2014-02 | 4184    |\n",
       "| 2014-03 | 3993    |\n",
       "| 2014-04 | 3237    |\n",
       "| 2014-05 | 3100    |\n",
       "| ... | ... |\n",
       "| 2018-08 | 3135    |\n",
       "| 2018-09 | 2953    |\n",
       "| 2018-10 | 3315    |\n",
       "| 2018-11 | 4024    |\n",
       "| 2018-12 | 4295    |\n",
       "\n"
      ],
      "text/plain": [
       "    Mois    Consommation totale\n",
       "1   2014-01 4501               \n",
       "2   2014-02 4184               \n",
       "3   2014-03 3993               \n",
       "4   2014-04 3237               \n",
       "5   2014-05 3100               \n",
       "... ...     ...                \n",
       "56  2018-08 3135               \n",
       "57  2018-09 2953               \n",
       "58  2018-10 3315               \n",
       "59  2018-11 4024               \n",
       "60  2018-12 4295               "
      ]
     },
     "metadata": {},
     "output_type": "display_data"
    }
   ],
   "source": [
    "(conso <- conso %>% filter(conso$Territoire == 'Nouvelle-Aquitaine', 2014 < conso$Mois, conso$Mois < 2019) %>% \n",
    " select(Mois, 'Consommation totale'))"
   ]
  },
  {
   "cell_type": "code",
   "execution_count": 6,
   "metadata": {
    "scrolled": true
   },
   "outputs": [
    {
     "data": {
      "text/html": [
       "<dl class=dl-horizontal>\n",
       "\t<dt>Mois</dt>\n",
       "\t\t<dd>0</dd>\n",
       "\t<dt>Consommation totale</dt>\n",
       "\t\t<dd>0</dd>\n",
       "</dl>\n"
      ],
      "text/latex": [
       "\\begin{description*}\n",
       "\\item[Mois] 0\n",
       "\\item[Consommation totale] 0\n",
       "\\end{description*}\n"
      ],
      "text/markdown": [
       "Mois\n",
       ":   0Consommation totale\n",
       ":   0\n",
       "\n"
      ],
      "text/plain": [
       "               Mois Consommation totale \n",
       "                  0                   0 "
      ]
     },
     "metadata": {},
     "output_type": "display_data"
    }
   ],
   "source": [
    "# Données manquantes: \n",
    "sapply(conso, function(x) sum(is.na(x)))"
   ]
  },
  {
   "cell_type": "code",
   "execution_count": 7,
   "metadata": {},
   "outputs": [
    {
     "data": {
      "image/png": "[encoded data removed]",
      "text/plain": [
       "Plot with title \"Répartition des valeurs de la consommation d'électricité en Nouvelle-Aquitaine\""
      ]
     },
     "metadata": {},
     "output_type": "display_data"
    }
   ],
   "source": [
    "options(repr.plot.width = 7, repr.plot.height = 3)\n",
    "boxplot(conso[, 2], xlab = 'Consommation (en MW)', ylab = 'De 2014 à 2018', col = 'steelblue', horizontal = T, cex.main = 1,\n",
    "        main = 'Répartition des valeurs de la consommation d\\'électricité en Nouvelle-Aquitaine')\n",
    "points(mean(conso[, 2]), y = 1, pch = 21, col = 'red', bg = 'red')"
   ]
  },
  {
   "cell_type": "code",
   "execution_count": 8,
   "metadata": {
    "scrolled": false
   },
   "outputs": [],
   "source": [
    "# Transformation en série temporelle:\n",
    "conso_ts <- ts(conso[, 2], start = c(2014, 01), end = c(2018, 12), freq = 12)"
   ]
  },
  {
   "cell_type": "code",
   "execution_count": 9,
   "metadata": {},
   "outputs": [
    {
     "data": {
      "image/png": "[encoded data removed]",
      "text/plain": [
       "Plot with title \"Variation de la consommation d'électricité par mois en Nouvelle-Aquitaine de 2014 à 2018\""
      ]
     },
     "metadata": {},
     "output_type": "display_data"
    }
   ],
   "source": [
    "options(repr.plot.width = 9, repr.plot.height = 5)\n",
    "boxplot(conso_ts ~ cycle(conso_ts), xlab = 'Mois', ylab = 'Consommation (MW)', col = 'steelblue', \n",
    "        main = 'Variation de la consommation d\\'électricité par mois en Nouvelle-Aquitaine de 2014 à 2018')\n",
    "grid()"
   ]
  },
  {
   "cell_type": "markdown",
   "metadata": {},
   "source": [
    "CCL: Les variations les plus fortes se situent de novembre à mars, période de froid plus ou moins prononcée selon les années."
   ]
  },
  {
   "cell_type": "code",
   "execution_count": 10,
   "metadata": {
    "scrolled": false
   },
   "outputs": [
    {
     "data": {
      "image/png": "[encoded data removed]",
      "text/plain": [
       "Plot with title \"Evolution de la consommation d'électricité en Nouvelle-Aquitaine\""
      ]
     },
     "metadata": {},
     "output_type": "display_data"
    }
   ],
   "source": [
    "options(repr.plot.width = 9, repr.plot.height = 5)\n",
    "plot(conso_ts, xlab = 'Temps', ylab = 'Consommation (MW)', col = 'steelblue', lw = 3, \n",
    "     main = 'Evolution de la consommation d\\'électricité en Nouvelle-Aquitaine')\n",
    "grid()"
   ]
  },
  {
   "cell_type": "markdown",
   "metadata": {},
   "source": [
    "CCL: Tendance stable, saisonnalité de période 12 marquée logiquement par une période de froid et une période de chaud."
   ]
  },
  {
   "cell_type": "markdown",
   "metadata": {},
   "source": [
    "<a href=\"#sommaire\">Retour au sommaire</a>\n",
    "## <span style='color:blue'>2. Données mensuelles de la température due au chauffage électrique.<a name=\"M012\"></a>"
   ]
  },
  {
   "cell_type": "markdown",
   "metadata": {},
   "source": [
    "Le degré jour unifié (DJU) est la différence entre la température extérieure et une température de référence.\n",
    "\n",
    "Ici, les données de calculs s'appuient sur les considérations suivantes:\n",
    "- Station météo basée à Toulouse.\n",
    "- Méthode \"Météo\".\n",
    "- Type d'usage \"Chauffage\".\n",
    "- Seuil de température établie à 18°C.\n",
    "- du 01 janvier 2014 au 31 décembre 2018"
   ]
  },
  {
   "cell_type": "code",
   "execution_count": 11,
   "metadata": {},
   "outputs": [
    {
     "data": {
      "text/html": [
       "<table>\n",
       "<thead><tr><th scope=col>X1</th><th scope=col>JAN</th><th scope=col>FÉV</th><th scope=col>MAR</th><th scope=col>AVR</th><th scope=col>MAI</th><th scope=col>JUN</th><th scope=col>JUI</th><th scope=col>AOÛ</th><th scope=col>SEP</th><th scope=col>OCT</th><th scope=col>NOV</th><th scope=col>DÉC</th></tr></thead>\n",
       "<tbody>\n",
       "\t<tr><td>2014 </td><td>290.3</td><td>271.7</td><td>227.2</td><td>109.7</td><td>82.1 </td><td>1.9  </td><td>0.9  </td><td>0.8  </td><td> 6.7 </td><td> 38.7</td><td>146.6</td><td>363.0</td></tr>\n",
       "\t<tr><td>2015 </td><td>375.2</td><td>349.1</td><td>227.8</td><td>111.1</td><td>42.9 </td><td>1.0  </td><td>1.3  </td><td>0.3  </td><td>23.7 </td><td>109.7</td><td>187.5</td><td>234.5</td></tr>\n",
       "\t<tr><td>2016 </td><td>288.2</td><td>277.0</td><td>259.3</td><td>151.6</td><td>77.0 </td><td>9.5  </td><td>1.6  </td><td>0.0  </td><td> 4.5 </td><td> 92.9</td><td>216.2</td><td>334.8</td></tr>\n",
       "\t<tr><td>2017 </td><td>436.6</td><td>238.5</td><td>202.3</td><td>143.4</td><td>47.5 </td><td>5.8  </td><td>1.3  </td><td>2.2  </td><td>30.7 </td><td> 64.3</td><td>284.3</td><td>361.8</td></tr>\n",
       "\t<tr><td>2018 </td><td>275.7</td><td>363.1</td><td>261.2</td><td>112.1</td><td>76.1 </td><td>1.9  </td><td>0.0  </td><td>0.0  </td><td> 2.9 </td><td>103.7</td><td>210.7</td><td>265.4</td></tr>\n",
       "</tbody>\n",
       "</table>\n"
      ],
      "text/latex": [
       "\\begin{tabular}{r|lllllllllllll}\n",
       " X1 & JAN & FÉV & MAR & AVR & MAI & JUN & JUI & AOÛ & SEP & OCT & NOV & DÉC\\\\\n",
       "\\hline\n",
       "\t 2014  & 290.3 & 271.7 & 227.2 & 109.7 & 82.1  & 1.9   & 0.9   & 0.8   &  6.7  &  38.7 & 146.6 & 363.0\\\\\n",
       "\t 2015  & 375.2 & 349.1 & 227.8 & 111.1 & 42.9  & 1.0   & 1.3   & 0.3   & 23.7  & 109.7 & 187.5 & 234.5\\\\\n",
       "\t 2016  & 288.2 & 277.0 & 259.3 & 151.6 & 77.0  & 9.5   & 1.6   & 0.0   &  4.5  &  92.9 & 216.2 & 334.8\\\\\n",
       "\t 2017  & 436.6 & 238.5 & 202.3 & 143.4 & 47.5  & 5.8   & 1.3   & 2.2   & 30.7  &  64.3 & 284.3 & 361.8\\\\\n",
       "\t 2018  & 275.7 & 363.1 & 261.2 & 112.1 & 76.1  & 1.9   & 0.0   & 0.0   &  2.9  & 103.7 & 210.7 & 265.4\\\\\n",
       "\\end{tabular}\n"
      ],
      "text/markdown": [
       "\n",
       "| X1 | JAN | FÉV | MAR | AVR | MAI | JUN | JUI | AOÛ | SEP | OCT | NOV | DÉC |\n",
       "|---|---|---|---|---|---|---|---|---|---|---|---|---|\n",
       "| 2014  | 290.3 | 271.7 | 227.2 | 109.7 | 82.1  | 1.9   | 0.9   | 0.8   |  6.7  |  38.7 | 146.6 | 363.0 |\n",
       "| 2015  | 375.2 | 349.1 | 227.8 | 111.1 | 42.9  | 1.0   | 1.3   | 0.3   | 23.7  | 109.7 | 187.5 | 234.5 |\n",
       "| 2016  | 288.2 | 277.0 | 259.3 | 151.6 | 77.0  | 9.5   | 1.6   | 0.0   |  4.5  |  92.9 | 216.2 | 334.8 |\n",
       "| 2017  | 436.6 | 238.5 | 202.3 | 143.4 | 47.5  | 5.8   | 1.3   | 2.2   | 30.7  |  64.3 | 284.3 | 361.8 |\n",
       "| 2018  | 275.7 | 363.1 | 261.2 | 112.1 | 76.1  | 1.9   | 0.0   | 0.0   |  2.9  | 103.7 | 210.7 | 265.4 |\n",
       "\n"
      ],
      "text/plain": [
       "  X1   JAN   FÉV   MAR   AVR   MAI  JUN JUI AOÛ SEP  OCT   NOV   DÉC  \n",
       "1 2014 290.3 271.7 227.2 109.7 82.1 1.9 0.9 0.8  6.7  38.7 146.6 363.0\n",
       "2 2015 375.2 349.1 227.8 111.1 42.9 1.0 1.3 0.3 23.7 109.7 187.5 234.5\n",
       "3 2016 288.2 277.0 259.3 151.6 77.0 9.5 1.6 0.0  4.5  92.9 216.2 334.8\n",
       "4 2017 436.6 238.5 202.3 143.4 47.5 5.8 1.3 2.2 30.7  64.3 284.3 361.8\n",
       "5 2018 275.7 363.1 261.2 112.1 76.1 1.9 0.0 0.0  2.9 103.7 210.7 265.4"
      ]
     },
     "metadata": {},
     "output_type": "display_data"
    }
   ],
   "source": [
    "dju <- read.xlsx('Fichiers/DJU.xlsx', startRow = 11)\n",
    "(dju <- dju %>% filter(2014 <= dju$X1) %>% select(-Total) %>% arrange(X1))"
   ]
  },
  {
   "cell_type": "code",
   "execution_count": 12,
   "metadata": {},
   "outputs": [
    {
     "data": {
      "text/html": [
       "<ol class=list-inline>\n",
       "\t<li>'2014-01'</li>\n",
       "\t<li>'2015-01'</li>\n",
       "\t<li>'2016-01'</li>\n",
       "\t<li>'2017-01'</li>\n",
       "\t<li>'2018-01'</li>\n",
       "\t<li>'2014-02'</li>\n",
       "\t<li>'2015-02'</li>\n",
       "\t<li>'2016-02'</li>\n",
       "\t<li>'2017-02'</li>\n",
       "\t<li>'2018-02'</li>\n",
       "\t<li>'2014-03'</li>\n",
       "\t<li>'2015-03'</li>\n",
       "\t<li>'2016-03'</li>\n",
       "\t<li>'2017-03'</li>\n",
       "\t<li>'2018-03'</li>\n",
       "\t<li>'2014-04'</li>\n",
       "\t<li>'2015-04'</li>\n",
       "\t<li>'2016-04'</li>\n",
       "\t<li>'2017-04'</li>\n",
       "\t<li>'2018-04'</li>\n",
       "\t<li>'2014-05'</li>\n",
       "\t<li>'2015-05'</li>\n",
       "\t<li>'2016-05'</li>\n",
       "\t<li>'2017-05'</li>\n",
       "\t<li>'2018-05'</li>\n",
       "\t<li>'2014-06'</li>\n",
       "\t<li>'2015-06'</li>\n",
       "\t<li>'2016-06'</li>\n",
       "\t<li>'2017-06'</li>\n",
       "\t<li>'2018-06'</li>\n",
       "\t<li>'2014-07'</li>\n",
       "\t<li>'2015-07'</li>\n",
       "\t<li>'2016-07'</li>\n",
       "\t<li>'2017-07'</li>\n",
       "\t<li>'2018-07'</li>\n",
       "\t<li>'2014-08'</li>\n",
       "\t<li>'2015-08'</li>\n",
       "\t<li>'2016-08'</li>\n",
       "\t<li>'2017-08'</li>\n",
       "\t<li>'2018-08'</li>\n",
       "\t<li>'2014-09'</li>\n",
       "\t<li>'2015-09'</li>\n",
       "\t<li>'2016-09'</li>\n",
       "\t<li>'2017-09'</li>\n",
       "\t<li>'2018-09'</li>\n",
       "\t<li>'2014-10'</li>\n",
       "\t<li>'2015-10'</li>\n",
       "\t<li>'2016-10'</li>\n",
       "\t<li>'2017-10'</li>\n",
       "\t<li>'2018-10'</li>\n",
       "\t<li>'2014-11'</li>\n",
       "\t<li>'2015-11'</li>\n",
       "\t<li>'2016-11'</li>\n",
       "\t<li>'2017-11'</li>\n",
       "\t<li>'2018-11'</li>\n",
       "\t<li>'2014-12'</li>\n",
       "\t<li>'2015-12'</li>\n",
       "\t<li>'2016-12'</li>\n",
       "\t<li>'2017-12'</li>\n",
       "\t<li>'2018-12'</li>\n",
       "</ol>\n"
      ],
      "text/latex": [
       "\\begin{enumerate*}\n",
       "\\item '2014-01'\n",
       "\\item '2015-01'\n",
       "\\item '2016-01'\n",
       "\\item '2017-01'\n",
       "\\item '2018-01'\n",
       "\\item '2014-02'\n",
       "\\item '2015-02'\n",
       "\\item '2016-02'\n",
       "\\item '2017-02'\n",
       "\\item '2018-02'\n",
       "\\item '2014-03'\n",
       "\\item '2015-03'\n",
       "\\item '2016-03'\n",
       "\\item '2017-03'\n",
       "\\item '2018-03'\n",
       "\\item '2014-04'\n",
       "\\item '2015-04'\n",
       "\\item '2016-04'\n",
       "\\item '2017-04'\n",
       "\\item '2018-04'\n",
       "\\item '2014-05'\n",
       "\\item '2015-05'\n",
       "\\item '2016-05'\n",
       "\\item '2017-05'\n",
       "\\item '2018-05'\n",
       "\\item '2014-06'\n",
       "\\item '2015-06'\n",
       "\\item '2016-06'\n",
       "\\item '2017-06'\n",
       "\\item '2018-06'\n",
       "\\item '2014-07'\n",
       "\\item '2015-07'\n",
       "\\item '2016-07'\n",
       "\\item '2017-07'\n",
       "\\item '2018-07'\n",
       "\\item '2014-08'\n",
       "\\item '2015-08'\n",
       "\\item '2016-08'\n",
       "\\item '2017-08'\n",
       "\\item '2018-08'\n",
       "\\item '2014-09'\n",
       "\\item '2015-09'\n",
       "\\item '2016-09'\n",
       "\\item '2017-09'\n",
       "\\item '2018-09'\n",
       "\\item '2014-10'\n",
       "\\item '2015-10'\n",
       "\\item '2016-10'\n",
       "\\item '2017-10'\n",
       "\\item '2018-10'\n",
       "\\item '2014-11'\n",
       "\\item '2015-11'\n",
       "\\item '2016-11'\n",
       "\\item '2017-11'\n",
       "\\item '2018-11'\n",
       "\\item '2014-12'\n",
       "\\item '2015-12'\n",
       "\\item '2016-12'\n",
       "\\item '2017-12'\n",
       "\\item '2018-12'\n",
       "\\end{enumerate*}\n"
      ],
      "text/markdown": [
       "1. '2014-01'\n",
       "2. '2015-01'\n",
       "3. '2016-01'\n",
       "4. '2017-01'\n",
       "5. '2018-01'\n",
       "6. '2014-02'\n",
       "7. '2015-02'\n",
       "8. '2016-02'\n",
       "9. '2017-02'\n",
       "10. '2018-02'\n",
       "11. '2014-03'\n",
       "12. '2015-03'\n",
       "13. '2016-03'\n",
       "14. '2017-03'\n",
       "15. '2018-03'\n",
       "16. '2014-04'\n",
       "17. '2015-04'\n",
       "18. '2016-04'\n",
       "19. '2017-04'\n",
       "20. '2018-04'\n",
       "21. '2014-05'\n",
       "22. '2015-05'\n",
       "23. '2016-05'\n",
       "24. '2017-05'\n",
       "25. '2018-05'\n",
       "26. '2014-06'\n",
       "27. '2015-06'\n",
       "28. '2016-06'\n",
       "29. '2017-06'\n",
       "30. '2018-06'\n",
       "31. '2014-07'\n",
       "32. '2015-07'\n",
       "33. '2016-07'\n",
       "34. '2017-07'\n",
       "35. '2018-07'\n",
       "36. '2014-08'\n",
       "37. '2015-08'\n",
       "38. '2016-08'\n",
       "39. '2017-08'\n",
       "40. '2018-08'\n",
       "41. '2014-09'\n",
       "42. '2015-09'\n",
       "43. '2016-09'\n",
       "44. '2017-09'\n",
       "45. '2018-09'\n",
       "46. '2014-10'\n",
       "47. '2015-10'\n",
       "48. '2016-10'\n",
       "49. '2017-10'\n",
       "50. '2018-10'\n",
       "51. '2014-11'\n",
       "52. '2015-11'\n",
       "53. '2016-11'\n",
       "54. '2017-11'\n",
       "55. '2018-11'\n",
       "56. '2014-12'\n",
       "57. '2015-12'\n",
       "58. '2016-12'\n",
       "59. '2017-12'\n",
       "60. '2018-12'\n",
       "\n",
       "\n"
      ],
      "text/plain": [
       " [1] \"2014-01\" \"2015-01\" \"2016-01\" \"2017-01\" \"2018-01\" \"2014-02\" \"2015-02\"\n",
       " [8] \"2016-02\" \"2017-02\" \"2018-02\" \"2014-03\" \"2015-03\" \"2016-03\" \"2017-03\"\n",
       "[15] \"2018-03\" \"2014-04\" \"2015-04\" \"2016-04\" \"2017-04\" \"2018-04\" \"2014-05\"\n",
       "[22] \"2015-05\" \"2016-05\" \"2017-05\" \"2018-05\" \"2014-06\" \"2015-06\" \"2016-06\"\n",
       "[29] \"2017-06\" \"2018-06\" \"2014-07\" \"2015-07\" \"2016-07\" \"2017-07\" \"2018-07\"\n",
       "[36] \"2014-08\" \"2015-08\" \"2016-08\" \"2017-08\" \"2018-08\" \"2014-09\" \"2015-09\"\n",
       "[43] \"2016-09\" \"2017-09\" \"2018-09\" \"2014-10\" \"2015-10\" \"2016-10\" \"2017-10\"\n",
       "[50] \"2018-10\" \"2014-11\" \"2015-11\" \"2016-11\" \"2017-11\" \"2018-11\" \"2014-12\"\n",
       "[57] \"2015-12\" \"2016-12\" \"2017-12\" \"2018-12\""
      ]
     },
     "metadata": {},
     "output_type": "display_data"
    }
   ],
   "source": [
    "# Création d'un index en format \"année-mois\":\n",
    "(index <- substr(parse_date_time(paste(dju$X1, col(dju[, 1:12])),\"%Y-%m\"), 0, 7))\n",
    "#(index <- format(as.Date(parse_date_time(paste(dju$X1, col(dju[, 1:12])), \"%Y-%m\")), \"%Y-%m\"))"
   ]
  },
  {
   "cell_type": "code",
   "execution_count": 13,
   "metadata": {
    "scrolled": true
   },
   "outputs": [
    {
     "data": {
      "text/html": [
       "<table>\n",
       "<thead><tr><th scope=col>Mois</th><th scope=col>DJU</th></tr></thead>\n",
       "<tbody>\n",
       "\t<tr><td>2014-01</td><td>290.3  </td></tr>\n",
       "\t<tr><td>2014-02</td><td>271.7  </td></tr>\n",
       "\t<tr><td>2014-03</td><td>227.2  </td></tr>\n",
       "\t<tr><td>2014-04</td><td>109.7  </td></tr>\n",
       "\t<tr><td>2014-05</td><td> 82.1  </td></tr>\n",
       "\t<tr><td>...</td><td>...</td></tr>\n",
       "\t<tr><td>2018-08</td><td>  0.0  </td></tr>\n",
       "\t<tr><td>2018-09</td><td>  2.9  </td></tr>\n",
       "\t<tr><td>2018-10</td><td>103.7  </td></tr>\n",
       "\t<tr><td>2018-11</td><td>210.7  </td></tr>\n",
       "\t<tr><td>2018-12</td><td>265.4  </td></tr>\n",
       "</tbody>\n",
       "</table>\n"
      ],
      "text/latex": [
       "\\begin{tabular}{r|ll}\n",
       " Mois & DJU\\\\\n",
       "\\hline\n",
       "\t 2014-01 & 290.3  \\\\\n",
       "\t 2014-02 & 271.7  \\\\\n",
       "\t 2014-03 & 227.2  \\\\\n",
       "\t 2014-04 & 109.7  \\\\\n",
       "\t 2014-05 &  82.1  \\\\\n",
       "\t ... & ...\\\\\n",
       "\t 2018-08 &   0.0  \\\\\n",
       "\t 2018-09 &   2.9  \\\\\n",
       "\t 2018-10 & 103.7  \\\\\n",
       "\t 2018-11 & 210.7  \\\\\n",
       "\t 2018-12 & 265.4  \\\\\n",
       "\\end{tabular}\n"
      ],
      "text/markdown": [
       "\n",
       "| Mois | DJU |\n",
       "|---|---|\n",
       "| 2014-01 | 290.3   |\n",
       "| 2014-02 | 271.7   |\n",
       "| 2014-03 | 227.2   |\n",
       "| 2014-04 | 109.7   |\n",
       "| 2014-05 |  82.1   |\n",
       "| ... | ... |\n",
       "| 2018-08 |   0.0   |\n",
       "| 2018-09 |   2.9   |\n",
       "| 2018-10 | 103.7   |\n",
       "| 2018-11 | 210.7   |\n",
       "| 2018-12 | 265.4   |\n",
       "\n"
      ],
      "text/plain": [
       "    Mois    DJU  \n",
       "1   2014-01 290.3\n",
       "2   2014-02 271.7\n",
       "3   2014-03 227.2\n",
       "4   2014-04 109.7\n",
       "5   2014-05  82.1\n",
       "... ...     ...  \n",
       "56  2018-08   0.0\n",
       "57  2018-09   2.9\n",
       "58  2018-10 103.7\n",
       "59  2018-11 210.7\n",
       "60  2018-12 265.4"
      ]
     },
     "metadata": {},
     "output_type": "display_data"
    }
   ],
   "source": [
    "# Défusionnement des mois et des années:\n",
    "dju <- cbind(index, dju %>% melt(id.vars = 'X1')) %>% select(c(index, value)) %>% rename(Mois = index, DJU = value) %>% arrange(Mois)\n",
    "dju"
   ]
  },
  {
   "cell_type": "code",
   "execution_count": 14,
   "metadata": {
    "scrolled": true
   },
   "outputs": [
    {
     "data": {
      "text/html": [
       "<dl class=dl-horizontal>\n",
       "\t<dt>Mois</dt>\n",
       "\t\t<dd>0</dd>\n",
       "\t<dt>DJU</dt>\n",
       "\t\t<dd>0</dd>\n",
       "</dl>\n"
      ],
      "text/latex": [
       "\\begin{description*}\n",
       "\\item[Mois] 0\n",
       "\\item[DJU] 0\n",
       "\\end{description*}\n"
      ],
      "text/markdown": [
       "Mois\n",
       ":   0DJU\n",
       ":   0\n",
       "\n"
      ],
      "text/plain": [
       "Mois  DJU \n",
       "   0    0 "
      ]
     },
     "metadata": {},
     "output_type": "display_data"
    }
   ],
   "source": [
    "# Données manquantes:\n",
    "sapply(dju, function(x) sum(is.na(x)))"
   ]
  },
  {
   "cell_type": "code",
   "execution_count": 15,
   "metadata": {},
   "outputs": [
    {
     "data": {
      "image/png": "[encoded data removed]",
      "text/plain": [
       "Plot with title \"Répartition des DJU en Nouvelle-Aquitaine\""
      ]
     },
     "metadata": {},
     "output_type": "display_data"
    }
   ],
   "source": [
    "options(repr.plot.width = 6, repr.plot.height = 3)\n",
    "boxplot(dju[, 2], xlab = 'DJU (°C)', ylab = 'De 2014 à 2018', col = 'darkred', horizontal = T, cex.main = 1,\n",
    "        main = 'Répartition des DJU en Nouvelle-Aquitaine')\n",
    "points(mean(dju[, 2]), y = 1, pch = 21, col = 'green', bg = 'green')"
   ]
  },
  {
   "cell_type": "code",
   "execution_count": 16,
   "metadata": {},
   "outputs": [],
   "source": [
    "# Conversion en série temporelle \n",
    "dju_ts <- ts(dju[, 2], start = 2014, freq = 12)"
   ]
  },
  {
   "cell_type": "code",
   "execution_count": 17,
   "metadata": {},
   "outputs": [
    {
     "data": {
      "image/png": "[encoded data removed]",
      "text/plain": [
       "Plot with title \"Variation des DJU de 2014 à 2018 en Nouvelle-Aquitaine pour chaque mois\""
      ]
     },
     "metadata": {},
     "output_type": "display_data"
    }
   ],
   "source": [
    "options(repr.plot.width = 9, repr.plot.height = 5)\n",
    "boxplot(dju_ts ~ cycle(dju_ts), xlab = 'Mois', ylab = 'DJU (°C)', col = 'darkred', \n",
    "        main = 'Variation des DJU de 2014 à 2018 en Nouvelle-Aquitaine pour chaque mois')\n",
    "grid()"
   ]
  },
  {
   "cell_type": "code",
   "execution_count": 18,
   "metadata": {},
   "outputs": [
    {
     "data": {
      "image/png": "[encoded data removed]",
      "text/plain": [
       "Plot with title \"Evolution des DJU en Nouvelle-Aquitaine\""
      ]
     },
     "metadata": {},
     "output_type": "display_data"
    }
   ],
   "source": [
    "options(repr.plot.width = 9, repr.plot.height = 5)\n",
    "plot(dju_ts, xlab = 'Temps', ylab = 'DJU (°C)', col = 'darkred', lw = 3, \n",
    "     main = 'Evolution des DJU en Nouvelle-Aquitaine')\n",
    "grid()"
   ]
  },
  {
   "cell_type": "markdown",
   "metadata": {},
   "source": [
    "CCL: Tendance stable, une saisonnalité additive de période 12."
   ]
  },
  {
   "cell_type": "markdown",
   "metadata": {},
   "source": [
    "<a href=\"#sommaire\">Retour au sommaire</a>\n",
    "# Mission 1<a name=\"M1\"></a>\n",
    "## <span style='color:blue'>1. Correction des données de consommation mensuelles de l'effet température par régression linéaire.<a name=\"M11\"></a>"
   ]
  },
  {
   "cell_type": "markdown",
   "metadata": {},
   "source": [
    "## <span style='color:brown'>a) Régression linéaire sur la série temporelle.<a name=\"M111\"></a>"
   ]
  },
  {
   "cell_type": "code",
   "execution_count": 19,
   "metadata": {},
   "outputs": [],
   "source": [
    "# Régression linéaire sur la série temporelle conso_ts:\n",
    "reg <- lm(conso_ts ~ dju_ts)"
   ]
  },
  {
   "cell_type": "code",
   "execution_count": 20,
   "metadata": {
    "scrolled": false
   },
   "outputs": [
    {
     "data": {
      "image/png": "[encoded data removed]",
      "text/plain": [
       "Plot with title \"Consommation d'électricité en fonction des DJU\""
      ]
     },
     "metadata": {},
     "output_type": "display_data"
    }
   ],
   "source": [
    "options(repr.plot.width = 9, repr.plot.height = 5.5)\n",
    "plot(as.numeric(dju_ts), conso_ts, xlab = 'DJU (°C)', ylab = 'Consommmation (MW)', col = 'blue',\n",
    "     main = 'Consommation d\\'électricité en fonction des DJU')\n",
    "abline(reg, col = 'red')\n",
    "grid()"
   ]
  },
  {
   "cell_type": "code",
   "execution_count": 21,
   "metadata": {},
   "outputs": [
    {
     "name": "stdout",
     "output_type": "stream",
     "text": [
      "Coefficient de Pearson :  0.97"
     ]
    }
   ],
   "source": [
    "pearson <- cor(conso_ts, dju_ts, method = 'pearson')\n",
    "cat('Coefficient de Pearson : ', round(pearson, 2))"
   ]
  },
  {
   "cell_type": "markdown",
   "metadata": {},
   "source": [
    "Analysons la significativité globale du modèle en calculant la statistique de Fisher: \n",
    "\n",
    "Hypothèse nulle H0: tous les coefficients de la relation linéaire sont nuls.<br/>\n",
    "Hypothèse alternative H1: un des coefficients au moins est non nul.<br/>\n",
    "Test bilatéral.<br/>\n",
    "Seuil de risque alpha fixé à 1%.<br/>\n",
    "Si la p-value est inférieur au seuil de risque, le test est significatif."
   ]
  },
  {
   "cell_type": "code",
   "execution_count": 22,
   "metadata": {},
   "outputs": [
    {
     "data": {
      "text/plain": [
       "\n",
       "Call:\n",
       "lm(formula = conso_ts ~ dju_ts)\n",
       "\n",
       "Residuals:\n",
       "    Min      1Q  Median      3Q     Max \n",
       "-338.91  -93.77   -5.27  108.88  341.67 \n",
       "\n",
       "Coefficients:\n",
       "             Estimate Std. Error t value Pr(>|t|)    \n",
       "(Intercept) 2929.8624    28.8127  101.69   <2e-16 ***\n",
       "dju_ts         4.9724     0.1509   32.94   <2e-16 ***\n",
       "---\n",
       "Signif. codes:  0 '***' 0.001 '**' 0.01 '*' 0.05 '.' 0.1 ' ' 1\n",
       "\n",
       "Residual standard error: 151.6 on 58 degrees of freedom\n",
       "Multiple R-squared:  0.9493,\tAdjusted R-squared:  0.9484 \n",
       "F-statistic:  1085 on 1 and 58 DF,  p-value: < 2.2e-16\n"
      ]
     },
     "metadata": {},
     "output_type": "display_data"
    }
   ],
   "source": [
    "summary(reg)"
   ]
  },
  {
   "cell_type": "markdown",
   "metadata": {},
   "source": [
    "La p_value est inférieur à alpha, le test de Fisher est significatif: H0 est rejetée, un des coefficients au moins est non nul.<br/>\n",
    "Il existe bien une relation linéaire entre les variables.\n",
    "\n",
    "Notre modèle explique quasiment 95% de la variance totale. Il y a donc un très fort effet température dû au chauffage électrique.\n",
    "\n",
    "Au vu des valeurs de \"Residuals\", la normalité des résidus est a priori assurée: la médiane est proche de 0 et les valeurs absolues de Q1 et de Q3 sont proches."
   ]
  },
  {
   "cell_type": "markdown",
   "metadata": {},
   "source": [
    "Le modèle de régression linéaire est viable si:\n",
    "- les résidus suivent une loi normale.\n",
    "- la variance des résidus est homoscédastique.\n",
    "- les résidus sont indépendants et identiquement distribués."
   ]
  },
  {
   "cell_type": "markdown",
   "metadata": {},
   "source": [
    "### Evaluation de l’hypothèse de normalité des résidus"
   ]
  },
  {
   "cell_type": "code",
   "execution_count": 23,
   "metadata": {
    "scrolled": false
   },
   "outputs": [
    {
     "data": {
      "image/png": "[encoded data removed]",
      "text/plain": [
       "Plot with title \"\""
      ]
     },
     "metadata": {},
     "output_type": "display_data"
    }
   ],
   "source": [
    "plot(reg, 2, col = 'blue')"
   ]
  },
  {
   "cell_type": "markdown",
   "metadata": {},
   "source": [
    "CCL: Graphiquement, les résidus suivent une loi normale."
   ]
  },
  {
   "cell_type": "markdown",
   "metadata": {},
   "source": [
    "Test de Kolmogorov-Smirnov et de Jarque-Bera:\n",
    "\n",
    "Hypothèse nulle H0: Les résidus sont gaussiens.<br/>\n",
    "Hypothèse alternative H1 Les résidus ne sont pas gaussiens.<br/>\n",
    "Test bilatéral et seuil de risque alpha fixé à 5%."
   ]
  },
  {
   "cell_type": "code",
   "execution_count": 24,
   "metadata": {
    "scrolled": true
   },
   "outputs": [
    {
     "data": {
      "text/plain": [
       "\n",
       "\tOne-sample Kolmogorov-Smirnov test\n",
       "\n",
       "data:  resid(reg)\n",
       "D = 0.078627, p-value = 0.8238\n",
       "alternative hypothesis: two-sided\n"
      ]
     },
     "metadata": {},
     "output_type": "display_data"
    }
   ],
   "source": [
    "ks.test(resid(reg), 'pnorm', mean = mean(resid(reg)), sd = sd(resid(reg)))"
   ]
  },
  {
   "cell_type": "code",
   "execution_count": 25,
   "metadata": {
    "scrolled": true
   },
   "outputs": [
    {
     "data": {
      "text/plain": [
       "\n",
       "\tAdjusted Jarque-Bera test for normality\n",
       "\n",
       "data:  resid(reg)\n",
       "AJB = 0.62024, p-value = 0.7105\n"
      ]
     },
     "metadata": {},
     "output_type": "display_data"
    }
   ],
   "source": [
    "ajb.norm.test(resid(reg))"
   ]
  },
  {
   "cell_type": "markdown",
   "metadata": {},
   "source": [
    "CCL: Les p-values sont supérieurs à alpha, les tests sont non significatifs: les résidus suivent donc une loi normale."
   ]
  },
  {
   "cell_type": "markdown",
   "metadata": {},
   "source": [
    "### Evaluation de l’hypothèse d’homogénéité des résidus:"
   ]
  },
  {
   "cell_type": "code",
   "execution_count": 26,
   "metadata": {},
   "outputs": [
    {
     "data": {
      "image/png": "[encoded data removed]",
      "text/plain": [
       "Plot with title \"\""
      ]
     },
     "metadata": {},
     "output_type": "display_data"
    }
   ],
   "source": [
    "plot(reg, 3, col = 'blue')"
   ]
  },
  {
   "cell_type": "markdown",
   "metadata": {},
   "source": [
    "CCL: La courbe rouge est globalement plate ce qui montre que les résidus ont tendance à être répartis de façon homogène tout le long du gradient des valeurs prédites, et donc que l’hypothèse d’homogénéité des résidus est acceptée."
   ]
  },
  {
   "cell_type": "markdown",
   "metadata": {},
   "source": [
    "Test de Breush-Pagan:\n",
    "\n",
    "H0: Les valeurs des résidus ne dépendent pas des valeurs explicatives, il y a donc homoscédasticité de la variance résiduelle.<br/>\n",
    "H1: Les valeurs résiduelles dépendent des valeurs prédictives, il y a alors hétéroscédasticité.<br/>\n",
    "Test bilatéral et seuil de risque alpha estimé à 5%."
   ]
  },
  {
   "cell_type": "code",
   "execution_count": 27,
   "metadata": {
    "scrolled": true
   },
   "outputs": [
    {
     "data": {
      "text/plain": [
       "Non-constant Variance Score Test \n",
       "Variance formula: ~ fitted.values \n",
       "Chisquare = 0.2501808, Df = 1, p = 0.61695"
      ]
     },
     "metadata": {},
     "output_type": "display_data"
    }
   ],
   "source": [
    "ncvTest(reg)"
   ]
  },
  {
   "cell_type": "markdown",
   "metadata": {},
   "source": [
    "CCL: Le test ne rejette pas l'hypothèse d'homoscédasticité de la variance des résidus. "
   ]
  },
  {
   "cell_type": "markdown",
   "metadata": {},
   "source": [
    "### Evaluation de l’hypothèse d’indépendance des résidus."
   ]
  },
  {
   "cell_type": "code",
   "execution_count": 28,
   "metadata": {},
   "outputs": [
    {
     "data": {
      "image/png": "[encoded data removed]",
      "text/plain": [
       "Plot with title \"Autocorrélogramme simple des résidus de la régression linéaire\""
      ]
     },
     "metadata": {},
     "output_type": "display_data"
    }
   ],
   "source": [
    "# Autocorrélogramme des résidus:\n",
    "Acf(resid(reg), ylim = c(-1, 1), lag.max = length(resid(reg)), \n",
    "    main = 'Autocorrélogramme simple des résidus de la régression linéaire')"
   ]
  },
  {
   "cell_type": "markdown",
   "metadata": {},
   "source": [
    "CCL: Les résidus indiquent une autocorrélation. Elle est notable sur les pics 12, 24 et 36. \n",
    "\n",
    "Test de Durbin-Watson:\n",
    "\n",
    "Hypothèse H0: Il y a indépendance des résidus.<br/>\n",
    "Hypothèse H1: Les résidus sont corrélées.<br/>\n",
    "Test bilatéral et seuil de risque alpha à 1%."
   ]
  },
  {
   "cell_type": "code",
   "execution_count": 29,
   "metadata": {
    "scrolled": true
   },
   "outputs": [
    {
     "data": {
      "text/plain": [
       " lag Autocorrelation D-W Statistic p-value\n",
       "   1        0.126982      1.732256   0.234\n",
       " Alternative hypothesis: rho != 0"
      ]
     },
     "metadata": {},
     "output_type": "display_data"
    }
   ],
   "source": [
    "durbinWatsonTest(reg)"
   ]
  },
  {
   "cell_type": "markdown",
   "metadata": {},
   "source": [
    "CCL: La p-value étant supérieur au seuil de risque, le test ne rejette pas H0: Les résidus sont indépendants."
   ]
  },
  {
   "cell_type": "code",
   "execution_count": 30,
   "metadata": {},
   "outputs": [
    {
     "data": {
      "image/png": "[encoded data removed]",
      "text/plain": [
       "Plot with title \"\""
      ]
     },
     "metadata": {},
     "output_type": "display_data"
    }
   ],
   "source": [
    "plot(reg, 1, col = 'blue')"
   ]
  },
  {
   "cell_type": "markdown",
   "metadata": {},
   "source": [
    "CCL:\n",
    "- On peut observer des résidus \"couplés\", censés indiquer une non-indépendance des résidus.\n",
    "- Les valeurs prédites par le modèle augmentent, les résidus restent globalement uniformément distribués de part et d’autre de 0. Cela montre, qu’en moyenne, la droite de régression, est bien adaptée aux données, et donc que l’hypothèse de linéarité est acceptable.\n",
    "\n",
    "En général, l'auto-corrélation des résidus (et donc la non-indépendance) se rencontre lorsque la variable prédictive est temporelle.<br/>\n",
    "Au final, on considère notre modèle viable.<br/>\n",
    "On peut passer à la correction proprement dite."
   ]
  },
  {
   "cell_type": "markdown",
   "metadata": {},
   "source": [
    "<a href=\"#sommaire\">Retour au sommaire</a>\n",
    "## <span style='color:brown'>b) Correction de l'effet température sur la consommation.<a name=\"M112\"></a>"
   ]
  },
  {
   "cell_type": "code",
   "execution_count": 31,
   "metadata": {},
   "outputs": [
    {
     "data": {
      "text/html": [
       "<strong>dju_ts:</strong> 4.97243674389088"
      ],
      "text/latex": [
       "\\textbf{dju\\textbackslash{}\\_ts:} 4.97243674389088"
      ],
      "text/markdown": [
       "**dju_ts:** 4.97243674389088"
      ],
      "text/plain": [
       "  dju_ts \n",
       "4.972437 "
      ]
     },
     "metadata": {},
     "output_type": "display_data"
    }
   ],
   "source": [
    "reg$coefficient[2]\n",
    "conso_corr <- conso_ts - reg$coefficient[2]*dju_ts"
   ]
  },
  {
   "cell_type": "markdown",
   "metadata": {},
   "source": [
    "$Consommation ~ corrigée = Consommation~totale - 4.97243674389088*DJU$"
   ]
  },
  {
   "cell_type": "code",
   "execution_count": 32,
   "metadata": {},
   "outputs": [
    {
     "data": {
      "image/png": "[encoded data removed]",
      "text/plain": [
       "plot without title"
      ]
     },
     "metadata": {},
     "output_type": "display_data"
    }
   ],
   "source": [
    "options(repr.plot.width = 9, repr.plot.height = 5)\n",
    "autoplot(cbind(Consommation = conso_ts, 'Consommation corrigée' = conso_corr), xlab = 'Temps', ylab = 'MW', facets = F, size = 1, \n",
    "        main = 'Correction de la consommation mensuelle de l\\'effet température (dû au chauffage électrique)')"
   ]
  },
  {
   "cell_type": "markdown",
   "metadata": {},
   "source": [
    "CCL: On peut constater une sérieuse baisse de la consommation hivernale sans l'utilisation du chauffage électrique."
   ]
  },
  {
   "cell_type": "markdown",
   "metadata": {},
   "source": [
    "<a href=\"#sommaire\">Retour au sommaire</a>\n",
    "## <span style='color:blue'>2. Décomposition de la consommation corrigée.<a name=\"M12\"></a>"
   ]
  },
  {
   "cell_type": "code",
   "execution_count": 33,
   "metadata": {},
   "outputs": [
    {
     "name": "stdout",
     "output_type": "stream",
     "text": [
      " Call:\n",
      " stl(x = conso_corr, s.window = \"periodic\")\n",
      "\n",
      " Time.series components:\n",
      "    seasonal              trend            remainder         \n",
      " Min.   :-216.87184   Min.   :2864.235   Min.   :-145.45866  \n",
      " 1st Qu.: -76.86474   1st Qu.:2921.282   1st Qu.: -50.67373  \n",
      " Median : -11.72846   Median :2931.423   Median :   3.25410  \n",
      " Mean   :   0.00000   Mean   :2929.619   Mean   :   0.24293  \n",
      " 3rd Qu.:  71.68279   3rd Qu.:2947.537   3rd Qu.:  52.57235  \n",
      " Max.   : 252.21281   Max.   :2966.558   Max.   : 113.87746  \n",
      " IQR:\n",
      "     STL.seasonal STL.trend STL.remainder data  \n",
      "     148.55        26.25    103.25        202.66\n",
      "   %  73.3         13.0      50.9         100.0 \n",
      "\n",
      " Weights: all == 1\n",
      "\n",
      " Other components: List of 5\n",
      " $ win  : Named num [1:3] 601 19 13\n",
      " $ deg  : Named int [1:3] 0 1 1\n",
      " $ jump : Named num [1:3] 61 2 2\n",
      " $ inner: int 2\n",
      " $ outer: int 0\n"
     ]
    }
   ],
   "source": [
    "# Décomposition de la consommation corrigée:\n",
    "stl_conso_corr = stl(conso_corr, s.window = 'periodic')\n",
    "summary(stl_conso_corr)"
   ]
  },
  {
   "cell_type": "code",
   "execution_count": 34,
   "metadata": {},
   "outputs": [
    {
     "data": {
      "image/png": "[encoded data removed]",
      "text/plain": [
       "plot without title"
      ]
     },
     "metadata": {},
     "output_type": "display_data"
    }
   ],
   "source": [
    "options(repr.plot.width = 10, repr.plot.height = 5.5)\n",
    "autoplot(stl_conso_corr, xlab = 'Temps', ylab = 'Consommation (MW)', facets = F, size = 1, \n",
    "         main = 'Décomposition de la consommation d\\'électricité corrigée')"
   ]
  },
  {
   "cell_type": "code",
   "execution_count": 35,
   "metadata": {},
   "outputs": [
    {
     "data": {
      "text/html": [
       "<strong>trend:</strong> 3.6"
      ],
      "text/latex": [
       "\\textbf{trend:} 3.6"
      ],
      "text/markdown": [
       "**trend:** 3.6"
      ],
      "text/plain": [
       "trend \n",
       "  3.6 "
      ]
     },
     "metadata": {},
     "output_type": "display_data"
    }
   ],
   "source": [
    "# Taux d'évolution de la tendance pour la consommation corrigée:\n",
    "round((stl_conso_corr$time.series[60, 2] - stl_conso_corr$time.series[1, 2])/stl_conso_corr$time.series[1, 2]*100, 1)"
   ]
  },
  {
   "cell_type": "markdown",
   "metadata": {},
   "source": [
    "- La tendance a évolué de 3.6% entre le 1er janvier 2014 et le 31 décembre 2018. Elle est donc considérée stable.\n",
    "- La saisonnalité est de période 12.\n",
    "- Montrons que les résidus sont des bruits blancs afin de confirmer l'exhaustivité de la décomposition."
   ]
  },
  {
   "cell_type": "code",
   "execution_count": 36,
   "metadata": {},
   "outputs": [
    {
     "data": {
      "image/png": "[encoded data removed]",
      "text/plain": [
       "plot without title"
      ]
     },
     "metadata": {},
     "output_type": "display_data"
    }
   ],
   "source": [
    "options(repr.plot.width = 10, repr.plot.height = 5)\n",
    "autoplot(stl_conso_corr$time.series[, 3], size = 1, xlab = 'Temps', ylab = 'Résidus (MW)', col = 'darkgreen',\n",
    "         main = 'Résidus de la consommation corrigée')"
   ]
  },
  {
   "cell_type": "code",
   "execution_count": 37,
   "metadata": {},
   "outputs": [
    {
     "data": {
      "image/png": "[encoded data removed]",
      "text/plain": [
       "Plot with title \"Autocorrélogramme simple des résidus de la série corrigée\""
      ]
     },
     "metadata": {},
     "output_type": "display_data"
    }
   ],
   "source": [
    "options(repr.plot.width = 10, repr.plot.height = 6)\n",
    "Acf(stl_conso_corr$time.series[, 3], ylim = c(-1, 1), lag = max(nrow(conso)), \n",
    "    main = 'Autocorrélogramme simple des résidus de la série corrigée')"
   ]
  },
  {
   "cell_type": "markdown",
   "metadata": {},
   "source": [
    "CCL: Visuellement, malgré trois pics légérement significatifs, il reste très peu d'informations dans les résidus utiles à la correction de l'effet température.<br/>\n",
    "On peut visuellement considérer l'indépendances des résidus."
   ]
  },
  {
   "cell_type": "markdown",
   "metadata": {},
   "source": [
    "Tests de Llung-Box et Pierce-Box:\n",
    "\n",
    "Hypothèse nulle H0: Les résidus sont des bruits blancs.<br/>\n",
    "Hypothèse alternative H1: Les résidus ne sont pas des bruits blancs.<br/>\n",
    "Test bilatéral et seuil de risque fixé à 1%."
   ]
  },
  {
   "cell_type": "code",
   "execution_count": 38,
   "metadata": {},
   "outputs": [
    {
     "data": {
      "text/plain": [
       "\n",
       "\tBox-Pierce test\n",
       "\n",
       "data:  stl_conso_corr$time.series[, 3]\n",
       "X-squared = 29.079, df = 20, p-value = 0.08622\n"
      ]
     },
     "metadata": {},
     "output_type": "display_data"
    }
   ],
   "source": [
    "Box.test(stl_conso_corr$time.series[, 3], lag = 20)"
   ]
  },
  {
   "cell_type": "code",
   "execution_count": 39,
   "metadata": {},
   "outputs": [
    {
     "data": {
      "text/plain": [
       "\n",
       "\tBox-Ljung test\n",
       "\n",
       "data:  stl_conso_corr$time.series[, 3]\n",
       "X-squared = 36.193, df = 20, p-value = 0.0146\n"
      ]
     },
     "metadata": {},
     "output_type": "display_data"
    }
   ],
   "source": [
    "Box.test(stl_conso_corr$time.series[, 3], lag = 20, type = 'Lj')"
   ]
  },
  {
   "cell_type": "markdown",
   "metadata": {},
   "source": [
    "Les tests ne rejettent pas H0 au niveau de 1%: Les résidus sont des bruits blancs.  "
   ]
  },
  {
   "cell_type": "markdown",
   "metadata": {},
   "source": [
    "Test de Shapiro-Wilk:\n",
    "\n",
    "Hypothèse nulle H0: Les résidus suivent une loi normale.<br/>\n",
    "Hypothèse alternative H1: Les résidus ne suivent pas une loi normale.<br/>\n",
    "Test bilatéral et seuil de risque fixé à 1%."
   ]
  },
  {
   "cell_type": "code",
   "execution_count": 40,
   "metadata": {},
   "outputs": [
    {
     "data": {
      "text/plain": [
       "\n",
       "\tShapiro-Wilk normality test\n",
       "\n",
       "data:  stl_conso_corr$time.series[, 3]\n",
       "W = 0.97162, p-value = 0.175\n"
      ]
     },
     "metadata": {},
     "output_type": "display_data"
    }
   ],
   "source": [
    "shapiro.test(stl_conso_corr$time.series[, 3])"
   ]
  },
  {
   "cell_type": "markdown",
   "metadata": {},
   "source": [
    "CCL: Le test de normalité des résidus est confirmé pour cette décomposition au niveau de 5%.\n",
    "\n",
    "Au final, nos résidus sont des bruits blancs gaussiens.<br/>\n",
    "L'exhaustivité de la décomposition de la consommation corrigée est confirmée.<br/>\n",
    "Notre décompostion est donc viable."
   ]
  },
  {
   "cell_type": "markdown",
   "metadata": {},
   "source": [
    "<a href=\"#sommaire\">Retour au sommaire</a>\n",
    "# Mission 2<a name=\"M2\"></a>\n",
    "# <span style='color:red'>Désaisonnalisation de la consommation corrigée grâce aux moyennes mobiles.<a name=\"M21\"></a>"
   ]
  },
  {
   "cell_type": "code",
   "execution_count": 41,
   "metadata": {},
   "outputs": [],
   "source": [
    "# Saisonnalité:\n",
    "saisonnalite <- stl_conso_corr$time.series[, 1]\n",
    "\n",
    "# Désaisonnalisation:\n",
    "desaisonnalisation <- conso_corr - saisonnalite"
   ]
  },
  {
   "cell_type": "markdown",
   "metadata": {},
   "source": [
    "$désaisonnalisation = consommation~corrigée - saisonnalité$"
   ]
  },
  {
   "cell_type": "code",
   "execution_count": 42,
   "metadata": {},
   "outputs": [
    {
     "data": {
      "image/png": "[encoded data removed]",
      "text/plain": [
       "plot without title"
      ]
     },
     "metadata": {},
     "output_type": "display_data"
    }
   ],
   "source": [
    "options(repr.plot.width = 10, repr.plot.height = 5)\n",
    "autoplot(cbind('Consommation corrigée' = conso_corr, Désaisonnalisation = desaisonnalisation), xlab = 'Temps', ylab = 'MW', \n",
    "         facets = F, size = 1, main = 'Désaisonnalisation de la consommation corrigée d\\'électricité grâce aux moyennes mobiles')"
   ]
  },
  {
   "cell_type": "code",
   "execution_count": 43,
   "metadata": {},
   "outputs": [
    {
     "data": {
      "image/png": "[encoded data removed]",
      "text/plain": [
       "plot without title"
      ]
     },
     "metadata": {},
     "output_type": "display_data"
    }
   ],
   "source": [
    "options(repr.plot.width = 10, repr.plot.height = 5)\n",
    "autoplot(cbind('Consommation corrigée' = conso_corr, Désaisonnalisation = desaisonnalisation, 'Consommation' = conso_ts), \n",
    "         xlab = 'Temps', ylab = 'MW', facets = F, size = 1,\n",
    "         main = 'Vue global\\nDésaisonnalisation de la consommation corrigée d\\'électricité grâce aux moyennes mobiles')"
   ]
  },
  {
   "cell_type": "markdown",
   "metadata": {},
   "source": [
    "<a href=\"#sommaire\">Retour au sommaire</a>\n",
    "# Mission 3<a name=\"M3\"></a>\n",
    "# <span style='color:red'>Prévision de la consommation corrigée sur un an.<a name=\"M31\"></a>"
   ]
  },
  {
   "cell_type": "markdown",
   "metadata": {},
   "source": [
    "## <span style='color:blue'>1. Méthode de Holt-Winters.<a name=\"M311\"></a>"
   ]
  },
  {
   "cell_type": "markdown",
   "metadata": {},
   "source": [
    "Cette méthode se sert de trois équations de lissage fonction des paramètres suivants:\n",
    "- Paramètre α : lissage sur les valeurs<br/>\n",
    "- Paramètre β : lissage sur la tendance<br/>\n",
    "- Paramètre γ : lissage sur la saisonnalité<br/>"
   ]
  },
  {
   "cell_type": "markdown",
   "metadata": {},
   "source": [
    "## <span style='color:brown'>a) Modèle de Holt-Winters additif avec erreurs additives.<a name=\"M31\"></a>"
   ]
  },
  {
   "cell_type": "markdown",
   "metadata": {},
   "source": [
    "D'après les premières analyses de la consommmation sur sa tendance et sa saisonnalité, on a envie d'utiliser un modèle AAA (Erreurs additives, Tendance additive et Saisonnalité additive).<br/>\n",
    "Essayons alors ce premier modèle:"
   ]
  },
  {
   "cell_type": "code",
   "execution_count": 44,
   "metadata": {},
   "outputs": [
    {
     "name": "stdout",
     "output_type": "stream",
     "text": [
      "\n",
      "Forecast method: ETS(A,A,A)\n",
      "\n",
      "Model Information:\n",
      "ETS(A,A,A) \n",
      "\n",
      "Call:\n",
      " ets(y = conso_corr, model = \"AAA\") \n",
      "\n",
      "  Smoothing parameters:\n",
      "    alpha = 0.0035 \n",
      "    beta  = 0.0022 \n",
      "    gamma = 0.001 \n",
      "\n",
      "  Initial states:\n",
      "    l = 2892.6714 \n",
      "    b = 1.0129 \n",
      "    s = 19.3585 -94.7408 16.0517 -27.3752 83.4995 246.123\n",
      "           -29.5753 -178.5787 -215.9712 81.1986 -78.0189 178.0288\n",
      "\n",
      "  sigma:  80.9957\n",
      "\n",
      "     AIC     AICc      BIC \n",
      "788.3789 802.9504 823.9828 \n",
      "\n",
      "Error measures:\n",
      "                   ME     RMSE      MAE         MPE     MAPE      MASE\n",
      "Training set 1.335345 69.36058 55.86644 -0.01112165 1.922059 0.5757928\n",
      "                    ACF1\n",
      "Training set -0.05138024\n",
      "\n",
      "Forecasts:\n",
      "         Point Forecast    Lo 80    Hi 80    Lo 95    Hi 95\n",
      "Jan 2019       3149.416 3045.616 3253.216 2990.667 3308.165\n",
      "Feb 2019       2894.529 2790.727 2998.331 2735.778 3053.280\n",
      "Mar 2019       3054.824 2951.019 3158.629 2896.068 3213.580\n",
      "Apr 2019       2758.932 2655.121 2862.742 2600.167 2917.696\n",
      "May 2019       2797.487 2693.669 2901.306 2638.711 2956.264\n",
      "Jun 2019       2947.844 2844.014 3051.674 2789.050 3106.638\n",
      "Jul 2019       3224.640 3120.795 3328.484 3065.824 3383.456\n",
      "Aug 2019       3063.246 2959.383 3167.109 2904.401 3222.091\n",
      "Sep 2019       2953.483 2849.596 3057.370 2794.602 3112.364\n",
      "Oct 2019       2997.936 2894.020 3101.851 2839.011 3156.861\n",
      "Nov 2019       2888.543 2784.593 2992.493 2729.566 3047.521\n",
      "Dec 2019       3003.782 2899.791 3107.772 2844.742 3162.822\n"
     ]
    }
   ],
   "source": [
    "# Méthode de Holt-Winters :\n",
    "hw_aaa = ets(conso_corr, model = 'AAA')\n",
    "hw_aaa.pred = predict(hw_aaa, 12)\n",
    "summary(hw_aaa.pred)"
   ]
  },
  {
   "cell_type": "code",
   "execution_count": 45,
   "metadata": {},
   "outputs": [
    {
     "data": {
      "image/png": "[encoded data removed]",
      "text/plain": [
       "plot without title"
      ]
     },
     "metadata": {},
     "output_type": "display_data"
    }
   ],
   "source": [
    "options(repr.plot.width = 8, repr.plot.height = 5)\n",
    "autoplot(hw_aaa.pred, xlab = 'Temps', ylab = 'Consommation (MW)',\n",
    "         main = 'Prédiction de la consommation corrigée sur un an selon la méthode de Holt-Winters\\nadditive avec erreurs additives')"
   ]
  },
  {
   "cell_type": "markdown",
   "metadata": {},
   "source": [
    "## <span style='color:brown'>b) Modèle de Holt-Winters additif avec erreurs multiplicatives.<a name=\"M32\"></a>"
   ]
  },
  {
   "cell_type": "markdown",
   "metadata": {},
   "source": [
    "Laissons choisir le modèle selon la commande ETS:"
   ]
  },
  {
   "cell_type": "code",
   "execution_count": 46,
   "metadata": {},
   "outputs": [
    {
     "name": "stdout",
     "output_type": "stream",
     "text": [
      "\n",
      "Forecast method: ETS(M,N,A)\n",
      "\n",
      "Model Information:\n",
      "ETS(M,N,A) \n",
      "\n",
      "Call:\n",
      " ets(y = conso_corr, model = \"ZZZ\") \n",
      "\n",
      "  Smoothing parameters:\n",
      "    alpha = 8e-04 \n",
      "    gamma = 3e-04 \n",
      "\n",
      "  Initial states:\n",
      "    l = 2929.0827 \n",
      "    s = 15.065 -85.1678 3.8746 -35.9209 95.3809 254.7457\n",
      "           -11.2126 -192.6391 -215.1517 60.3082 -68.785 179.5027\n",
      "\n",
      "  sigma:  0.0273\n",
      "\n",
      "     AIC     AICc      BIC \n",
      "785.5761 796.4852 816.9912 \n",
      "\n",
      "Error measures:\n",
      "                   ME     RMSE      MAE         MPE     MAPE     MASE\n",
      "Training set 1.018219 70.00868 57.06268 -0.02320774 1.951601 0.588122\n",
      "                      ACF1\n",
      "Training set -0.0002615054\n",
      "\n",
      "Forecasts:\n",
      "         Point Forecast    Lo 80    Hi 80    Lo 95    Hi 95\n",
      "Jan 2019       3108.635 2999.695 3217.575 2942.026 3275.244\n",
      "Feb 2019       2860.330 2760.092 2960.568 2707.029 3013.631\n",
      "Mar 2019       2989.436 2884.673 3094.199 2829.215 3149.657\n",
      "Apr 2019       2713.971 2618.862 2809.080 2568.514 2859.428\n",
      "May 2019       2736.498 2640.600 2832.397 2589.834 2883.163\n",
      "Jun 2019       2917.925 2815.669 3020.182 2761.537 3074.314\n",
      "Jul 2019       3183.874 3072.297 3295.450 3013.232 3354.515\n",
      "Aug 2019       3024.516 2918.524 3130.508 2862.415 3186.617\n",
      "Sep 2019       2893.224 2791.832 2994.615 2738.159 3048.288\n",
      "Oct 2019       2932.981 2830.196 3035.765 2775.786 3090.176\n",
      "Nov 2019       2843.966 2744.301 2943.631 2691.542 2996.391\n",
      "Dec 2019       2944.206 2841.028 3047.384 2786.409 3102.003\n"
     ]
    }
   ],
   "source": [
    "# Méthode de Holt-Winters :\n",
    "hw_zzz = ets(conso_corr, model = 'ZZZ')\n",
    "hw_zzz.pred = predict(hw_zzz, 12)\n",
    "summary(hw_zzz.pred)"
   ]
  },
  {
   "cell_type": "markdown",
   "metadata": {},
   "source": [
    "CCL:\n",
    "- La prédiction se base sur un modèle avec Erreur multiplicative et Saisonnalité Additive: le paramètre Beta (lissage sur la tendance) est inexistant.\n",
    "- L'erreur moyenne absolu entre les valeurs observés et prédites (MAPE) entre les deux modèles différent de 3 centième de pourcentage en faveur du premier.\n",
    "- L'$AIC_c$ du deuxième modèle est un peu plus bas de 7 unités. Cela incite à conserver le dernière modèle."
   ]
  },
  {
   "cell_type": "markdown",
   "metadata": {},
   "source": [
    "Remarque:<br/>\n",
    "Les valeurs de alpha proches de 1 réduisent l'incidence du passé et donnent plus de poids aux valeurs récentes, et inversement, les valeurs proches de 0 augmentent le lissage et réduisent l'incidence des valeurs récentes.<br/>\n",
    "Or les équations de lissage  sous forme de correction d'erreur peuvent s'écrivent en fonction de alpha (proche de zéro dans les deux cas).<br/>\n",
    "Les prédictions se font donc en fonction de toutes les valeurs passées dans les deux modèles."
   ]
  },
  {
   "cell_type": "code",
   "execution_count": 47,
   "metadata": {},
   "outputs": [
    {
     "data": {
      "image/png": "[encoded data removed]",
      "text/plain": [
       "plot without title"
      ]
     },
     "metadata": {},
     "output_type": "display_data"
    }
   ],
   "source": [
    "options(repr.plot.width = 8, repr.plot.height = 4.5)\n",
    "autoplot(hw_zzz.pred, xlab = 'Temps', ylab = 'Consommation (MW)',\n",
    "         main = 'Prédiction de la consommation corrigée sur un an selon la méthode de Holt-Winters additive avec erreurs\\nmultiplicatives')"
   ]
  },
  {
   "cell_type": "code",
   "execution_count": 48,
   "metadata": {},
   "outputs": [
    {
     "name": "stderr",
     "output_type": "stream",
     "text": [
      "Scale for 'x' is already present. Adding another scale for 'x', which will\n",
      "replace the existing scale.\n",
      "Warning message:\n",
      "\"Removed 48 row(s) containing missing values (geom_path).\""
     ]
    },
    {
     "data": {
      "image/png": "[encoded data removed]",
      "text/plain": [
       "plot without title"
      ]
     },
     "metadata": {},
     "output_type": "display_data"
    }
   ],
   "source": [
    "options(repr.plot.width = 8, repr.plot.height = 5)\n",
    "autoplot(hw_zzz.pred, xlim = c(2018, 2020), xlab = 'Temps', ylab = 'Consommation (MW)',\n",
    "         main = 'Prédiction de la consommation corrigée sur un an selon la méthode de Holt-Winters\\nadditive avec erreurs multiplicatives')"
   ]
  },
  {
   "cell_type": "markdown",
   "metadata": {},
   "source": [
    "<a href=\"#sommaire\">Retour au sommaire</a>\n",
    "## <span style='color:blue'>2. Méthode SARIMA.<a name=\"M312\"></a>\n",
    "## <span style='color:brown'>a) Détermination du modèle.<a name=\"M3121\"></a>\n",
    "### Stationnarité:"
   ]
  },
  {
   "cell_type": "markdown",
   "metadata": {},
   "source": [
    "On regarde la stationnarité de la série \"consommation corrigée\":"
   ]
  },
  {
   "cell_type": "code",
   "execution_count": 49,
   "metadata": {},
   "outputs": [
    {
     "data": {
      "image/png": "[encoded data removed]",
      "text/plain": [
       "Plot with title \"Autocorrélogramme simple de la consommation corrigée\""
      ]
     },
     "metadata": {},
     "output_type": "display_data"
    }
   ],
   "source": [
    "options(repr.plot.width = 8, repr.plot.height = 5)\n",
    "Acf(conso_corr, length(conso_corr), ylim = c(-1, 1), main = 'Autocorrélogramme simple de la consommation corrigée')"
   ]
  },
  {
   "cell_type": "markdown",
   "metadata": {},
   "source": [
    "CCL: On observe notamment des pics tous les 12 mois. La série décroît trop lentement vers 0, elle n'est visuellement pas stationnaire.\n",
    "Les autocorrélations simples ρ(h) ne sont ni proches de 1, ni proches les unes des autres. Ainsi, on n'effectue pas une différenciation en tendance."
   ]
  },
  {
   "cell_type": "markdown",
   "metadata": {},
   "source": [
    "Test de Dickey-Fuller augmenté:\n",
    "\n",
    "H0: La série comporte une racine unitaire.<br/>\n",
    "H1: La série ne comporte pas de racine unitaire. Elle est stationnaire.<br/>\n",
    "Test bilatéral et seuil de risque fixé à 1%."
   ]
  },
  {
   "cell_type": "code",
   "execution_count": 50,
   "metadata": {},
   "outputs": [
    {
     "name": "stderr",
     "output_type": "stream",
     "text": [
      "Warning message in adf.test(conso_corr):\n",
      "\"p-value smaller than printed p-value\""
     ]
    },
    {
     "data": {
      "text/plain": [
       "\n",
       "\tAugmented Dickey-Fuller Test\n",
       "\n",
       "data:  conso_corr\n",
       "Dickey-Fuller = -6.8999, Lag order = 3, p-value = 0.01\n",
       "alternative hypothesis: stationary\n"
      ]
     },
     "metadata": {},
     "output_type": "display_data"
    }
   ],
   "source": [
    "adf.test(conso_corr)"
   ]
  },
  {
   "cell_type": "markdown",
   "metadata": {},
   "source": [
    "CCL: Le test est non significatif au niveau 1%:  La série a une racine unitaire. Elle n'est donc pas stationnaire."
   ]
  },
  {
   "cell_type": "code",
   "execution_count": 51,
   "metadata": {},
   "outputs": [
    {
     "name": "stdout",
     "output_type": "stream",
     "text": [
      "Nombre de différenciation de la partie non saisonnière: 0 \n",
      "Nombre de différenciation de la partie saisonnière: 1 \n"
     ]
    }
   ],
   "source": [
    "# Calcul du nombre de différenciation sur les différentes parties à effectuer:\n",
    "cat('Nombre de différenciation de la partie non saisonnière:', ndiffs(conso_corr),'\\n')\n",
    "cat('Nombre de différenciation de la partie saisonnière:', nsdiffs(conso_corr),'\\n')"
   ]
  },
  {
   "cell_type": "markdown",
   "metadata": {},
   "source": [
    "On effectue alors une différenciation en saisonnalité avec s = 12 de la série pour tenter d'obtenir une série stationnaire."
   ]
  },
  {
   "cell_type": "code",
   "execution_count": 52,
   "metadata": {
    "scrolled": false
   },
   "outputs": [
    {
     "data": {
      "image/png": "[encoded data removed]",
      "text/plain": [
       "Plot with title \"paste(\"\", \"\", \"(\", \"I-B\", phantom()^{\n",
       "    paste(\"12\")\n",
       "}, \")\", \"\", \"X\", phantom()[{\n",
       "    paste(\"t\")\n",
       "}], \"\", \"\")\""
      ]
     },
     "metadata": {},
     "output_type": "display_data"
    }
   ],
   "source": [
    "options(repr.plot.width = 8, repr.plot.height = 5)\n",
    "Acf(diff(conso_corr, lag = 12, differences = 1), ylim = c(-1, 1), xlab = 'h', ylab = TeX('$\\\\widehat{r}(h)$'), lag = 48, \n",
    "    main = TeX('$(I-B^{12})X_t$'))"
   ]
  },
  {
   "cell_type": "markdown",
   "metadata": {},
   "source": [
    "La sortie ACF de la série différenciée semble pouvoir être interprétable comme un autocorrélogramme simple empirique.<br/>\n",
    "\n",
    "On vérifie que la série différenciée est bien devenue stationnaire:"
   ]
  },
  {
   "cell_type": "markdown",
   "metadata": {},
   "source": [
    "Test de Phillips-Perron:\n",
    "\n",
    "H0: La série différenciée n'est pas stationnaire.<br/>\n",
    "H1: La série différenciée est stationnaire.<br/>\n",
    "Test bilatéral et seuil de risque fixé à 5%."
   ]
  },
  {
   "cell_type": "code",
   "execution_count": 53,
   "metadata": {},
   "outputs": [
    {
     "name": "stderr",
     "output_type": "stream",
     "text": [
      "Warning message in pp.test(diff(conso_corr, lag = 12, differences = 1)):\n",
      "\"p-value smaller than printed p-value\""
     ]
    },
    {
     "data": {
      "text/plain": [
       "\n",
       "\tPhillips-Perron Unit Root Test\n",
       "\n",
       "data:  diff(conso_corr, lag = 12, differences = 1)\n",
       "Dickey-Fuller Z(alpha) = -47.762, Truncation lag parameter = 3, p-value\n",
       "= 0.01\n",
       "alternative hypothesis: stationary\n"
      ]
     },
     "metadata": {},
     "output_type": "display_data"
    }
   ],
   "source": [
    "pp.test(diff(conso_corr, lag = 12, differences = 1))"
   ]
  },
  {
   "cell_type": "markdown",
   "metadata": {},
   "source": [
    "CCL: La p-value est inférieur au seuil de risque 5%. Le processus est stationnaire.<br/>\n",
    "Remarque: Avec un seuil de risque fixé à 1%, ça ne marche pas.<br/>\n",
    "On va donc tester une autre méthode: on teste la blancheur de cette série puis on teste sa normalité.\n",
    "Si les deux conditions sont réunies, la série sera composée de bruits blancs gaussiens: elle sera alors stationnaire. "
   ]
  },
  {
   "cell_type": "markdown",
   "metadata": {},
   "source": [
    "Test de Llung-Box:\n",
    "\n",
    "Hypothèse nulle H0: La série est composé sont de bruits blancs.<br/>\n",
    "Hypothèse alternative H1: La série n'est pas composé de bruits blancs.<br/>\n",
    "Test bilatéral et seuil de risque fixé à 1%."
   ]
  },
  {
   "cell_type": "code",
   "execution_count": 54,
   "metadata": {},
   "outputs": [
    {
     "data": {
      "text/plain": [
       "\n",
       "\tBox-Ljung test\n",
       "\n",
       "data:  diff(conso_corr, lag = 12, differences = 1)\n",
       "X-squared = 0.39099, df = 1, p-value = 0.5318\n"
      ]
     },
     "metadata": {},
     "output_type": "display_data"
    }
   ],
   "source": [
    "Box.test(diff(conso_corr, lag = 12, differences = 1), type = 'Ljung-Box') "
   ]
  },
  {
   "cell_type": "markdown",
   "metadata": {},
   "source": [
    "CCL: La p-value est supérieur au seuil de risque: Le test ne rejette pas H0, la série différenciée est composé de bruits blancs."
   ]
  },
  {
   "cell_type": "markdown",
   "metadata": {},
   "source": [
    "Test de Shapiro-Wilk:\n",
    "\n",
    "Hypothèse nulle H0: La série suit une loi normale.<br/>\n",
    "Hypothèse alternative H1: La série ne suit pas une loi normale.<br/>\n",
    "Test bilatéral et seuil de risque fixé à 5%."
   ]
  },
  {
   "cell_type": "code",
   "execution_count": 55,
   "metadata": {},
   "outputs": [
    {
     "data": {
      "text/plain": [
       "\n",
       "\tShapiro-Wilk normality test\n",
       "\n",
       "data:  diff(conso_corr, lag = 12, differences = 1)\n",
       "W = 0.9689, p-value = 0.2295\n"
      ]
     },
     "metadata": {},
     "output_type": "display_data"
    }
   ],
   "source": [
    "shapiro.test(diff(conso_corr, lag = 12, differences = 1))"
   ]
  },
  {
   "cell_type": "markdown",
   "metadata": {},
   "source": [
    "CCL: Le test est non significatif à un niveau de 5%: La série suit une loi normale.<br/>\n",
    "On peut donc conclure que la série différenciée est composée de bruits blancs gaussiens, elle est donc bien stationnaire.\n",
    "\n",
    "On identifiera donc un modèle SARIMA sur la série (p, 0, q)(P, 1, Q)[12]."
   ]
  },
  {
   "cell_type": "markdown",
   "metadata": {},
   "source": [
    "On regarde maintenant les autocorrélogrammes partiels et simple de cette série stationnaire afin de déterminer les autres coefficients du modèle:"
   ]
  },
  {
   "cell_type": "code",
   "execution_count": 56,
   "metadata": {},
   "outputs": [
    {
     "data": {
      "image/png": "[encoded data removed]",
      "text/plain": [
       "Plot with title \"paste(\"\", \"\", \"(\", \"I-B\", phantom()^{\n",
       "    paste(\"12\")\n",
       "}, \")\", \"\", \"X\", phantom()[{\n",
       "    paste(\"t\")\n",
       "}], \"\", \"\")\""
      ]
     },
     "metadata": {},
     "output_type": "display_data"
    }
   ],
   "source": [
    "options(repr.plot.width = 8, repr.plot.height = 5)\n",
    "Acf(diff(conso_corr, lag = 12, differences = 1), ylim = c(-1, 1), lag = 48, main = TeX('$(I-B^{12})X_t$'))"
   ]
  },
  {
   "cell_type": "code",
   "execution_count": 57,
   "metadata": {},
   "outputs": [
    {
     "data": {
      "image/png": "[encoded data removed]",
      "text/plain": [
       "Plot with title \"paste(\"\", \"\", \"(\", \"I-B\", phantom()^{\n",
       "    paste(\"12\")\n",
       "}, \")\", \"\", \"X\", phantom()[{\n",
       "    paste(\"t\")\n",
       "}], \"\", \"\")\""
      ]
     },
     "metadata": {},
     "output_type": "display_data"
    }
   ],
   "source": [
    "options(repr.plot.width = 8, repr.plot.height = 5)\n",
    "Pacf(diff(conso_corr, lag = 12, differences = 1), ylim = c(-1, 1), lag = 48, main = TeX('$(I-B^{12})X_t$'))"
   ]
  },
  {
   "cell_type": "markdown",
   "metadata": {},
   "source": [
    "CCL:\n",
    "- Décroissance sinusoïdale pour ACF et PACF.\n",
    "- Un pic en 9 légèrement significatif pour PCAF donc p = 0 ou 1.\n",
    "- Un pic en 12 correspondant à la saisonnalité pour PACF donc P = 1.\n",
    "- Un pic en 12 correspondant à la saisonnalité pour ACF donc Q = 1.\n",
    "- Un pic en 9 légèrement significatif pour ACF donc q = 0 ou 1."
   ]
  },
  {
   "cell_type": "markdown",
   "metadata": {},
   "source": [
    "<a href=\"#sommaire\">Retour au sommaire</a>\n",
    "## <span style='color:brown'>b) Validation du modèle.<a name=\"M3122\"></a>"
   ]
  },
  {
   "cell_type": "markdown",
   "metadata": {},
   "source": [
    "On peut donc déjà tester les modèles suivants:\n",
    "- SARIMA(0, 0, 0)(1, 1, 1)[12]\n",
    "- SARIMA(1, 0, 0)(1, 1, 1)[12]\n",
    "- SARIMA(0, 0, 1)(1, 1, 1)[12]\n",
    "- SARIMA(1, 0, 1)(1, 1, 1)[12]"
   ]
  },
  {
   "cell_type": "markdown",
   "metadata": {},
   "source": [
    "### Modèle SARIMA(0, 0, 0)(1, 1, 1)[12]:"
   ]
  },
  {
   "cell_type": "code",
   "execution_count": 58,
   "metadata": {},
   "outputs": [
    {
     "name": "stdout",
     "output_type": "stream",
     "text": [
      "Series: conso_corr \n",
      "ARIMA(0,0,0)(1,1,1)[12] \n",
      "\n",
      "Coefficients:\n",
      "         sar1     sma1\n",
      "      -0.5556  -0.2322\n",
      "s.e.   0.1934   0.2508\n",
      "\n",
      "sigma^2 estimated as 7275:  log likelihood=-284.5\n",
      "AIC=574.99   AICc=575.54   BIC=580.61\n",
      "\n",
      "Training set error measures:\n",
      "                   ME     RMSE      MAE       MPE     MAPE      MASE\n",
      "Training set 19.98003 74.68198 53.51651 0.6221272 1.815541 0.5515731\n",
      "                     ACF1\n",
      "Training set -0.002989593\n"
     ]
    },
    {
     "data": {
      "text/html": [
       "<table>\n",
       "<thead><tr><th></th><th scope=col>sar1</th><th scope=col>sma1</th></tr></thead>\n",
       "<tbody>\n",
       "\t<tr><th scope=row>t.stat</th><td>-2.873145</td><td>-0.925853</td></tr>\n",
       "\t<tr><th scope=row>p.val</th><td> 0.004064</td><td> 0.354523</td></tr>\n",
       "</tbody>\n",
       "</table>\n"
      ],
      "text/latex": [
       "\\begin{tabular}{r|ll}\n",
       "  & sar1 & sma1\\\\\n",
       "\\hline\n",
       "\tt.stat & -2.873145 & -0.925853\\\\\n",
       "\tp.val &  0.004064 &  0.354523\\\\\n",
       "\\end{tabular}\n"
      ],
      "text/markdown": [
       "\n",
       "| <!--/--> | sar1 | sma1 |\n",
       "|---|---|---|\n",
       "| t.stat | -2.873145 | -0.925853 |\n",
       "| p.val |  0.004064 |  0.354523 |\n",
       "\n"
      ],
      "text/plain": [
       "       sar1      sma1     \n",
       "t.stat -2.873145 -0.925853\n",
       "p.val   0.004064  0.354523"
      ]
     },
     "metadata": {},
     "output_type": "display_data"
    },
    {
     "data": {
      "text/html": [
       "<table>\n",
       "<thead><tr><th scope=col>Retard</th><th scope=col>p-value</th></tr></thead>\n",
       "<tbody>\n",
       "\t<tr><td> 6     </td><td>0.60180</td></tr>\n",
       "\t<tr><td>12     </td><td>0.40513</td></tr>\n",
       "\t<tr><td>18     </td><td>0.48218</td></tr>\n",
       "\t<tr><td>24     </td><td>0.67932</td></tr>\n",
       "\t<tr><td>30     </td><td>0.81225</td></tr>\n",
       "\t<tr><td>36     </td><td>0.92047</td></tr>\n",
       "</tbody>\n",
       "</table>\n"
      ],
      "text/latex": [
       "\\begin{tabular}{ll}\n",
       " Retard & p-value\\\\\n",
       "\\hline\n",
       "\t  6      & 0.60180\\\\\n",
       "\t 12      & 0.40513\\\\\n",
       "\t 18      & 0.48218\\\\\n",
       "\t 24      & 0.67932\\\\\n",
       "\t 30      & 0.81225\\\\\n",
       "\t 36      & 0.92047\\\\\n",
       "\\end{tabular}\n"
      ],
      "text/markdown": [
       "\n",
       "| Retard | p-value |\n",
       "|---|---|\n",
       "|  6      | 0.60180 |\n",
       "| 12      | 0.40513 |\n",
       "| 18      | 0.48218 |\n",
       "| 24      | 0.67932 |\n",
       "| 30      | 0.81225 |\n",
       "| 36      | 0.92047 |\n",
       "\n"
      ],
      "text/plain": [
       "     Retard p-value\n",
       "[1,]  6     0.60180\n",
       "[2,] 12     0.40513\n",
       "[3,] 18     0.48218\n",
       "[4,] 24     0.67932\n",
       "[5,] 30     0.81225\n",
       "[6,] 36     0.92047"
      ]
     },
     "metadata": {},
     "output_type": "display_data"
    },
    {
     "data": {
      "text/plain": [
       "\n",
       "\tShapiro-Wilk normality test\n",
       "\n",
       "data:  model1$residuals\n",
       "W = 0.96375, p-value = 0.07189\n"
      ]
     },
     "metadata": {},
     "output_type": "display_data"
    }
   ],
   "source": [
    "model1 <- Arima(conso_corr, order = c(0, 0, 0), list(order = c(1, 1, 1), period = 12), include.mean = F, method = 'CSS-ML')\n",
    "summary(model1)\n",
    "\n",
    "# Test de significativité des paramètres dans le modèle:\n",
    "t_stat(model1)\n",
    "\n",
    "# Test de blancheur des résidus du modèle:\n",
    "Box.test.2(model1$residuals, nlag = c(6,12,18,24,30,36), type = 'Ljung-Box', decim = 5)\n",
    "\n",
    "# Test de normalité des résidus:\n",
    "shapiro.test(model1$residuals)"
   ]
  },
  {
   "cell_type": "markdown",
   "metadata": {},
   "source": [
    "CCL:\n",
    "- Le test rejette l'hypothèse nulle pour le paramètre des moyennes mobiles saisonnières: ce paramètres est significativement différent de zéro dans le modèle au niveau de 5%.\n",
    "- Le test rejette H0 au niveau de 5%: Les résidus sont des bruits blancs.\n",
    "- Le test ne rejette pas l'hypothèse de normalité des résidus au niveau 1%: Les résidus sont des bruits blancs Gaussiens.\n",
    "- Le MAPE est très bon (1.8%)."
   ]
  },
  {
   "cell_type": "markdown",
   "metadata": {},
   "source": [
    "Dans la continuité de recherche de viabilité, on reteste alors le modèle 1 en passant le paramètre Q à 0:\n",
    "\n",
    "### Modèle SARIMA(0, 0, 0)(1, 1, 0)[12]:"
   ]
  },
  {
   "cell_type": "code",
   "execution_count": 59,
   "metadata": {},
   "outputs": [
    {
     "name": "stdout",
     "output_type": "stream",
     "text": [
      "Series: conso_corr \n",
      "ARIMA(0,0,0)(1,1,0)[12] \n",
      "\n",
      "Coefficients:\n",
      "         sar1\n",
      "      -0.6759\n",
      "s.e.   0.1058\n",
      "\n",
      "sigma^2 estimated as 7357:  log likelihood=-284.94\n",
      "AIC=573.88   AICc=574.15   BIC=577.62\n",
      "\n",
      "Training set error measures:\n",
      "                   ME     RMSE      MAE       MPE     MAPE      MASE       ACF1\n",
      "Training set 17.98963 75.91558 53.42757 0.5543823 1.814652 0.5506564 0.04491739\n"
     ]
    },
    {
     "data": {
      "text/html": [
       "<table>\n",
       "<thead><tr><th></th><th scope=col>sar1</th></tr></thead>\n",
       "<tbody>\n",
       "\t<tr><th scope=row>t.stat</th><td>-6.390891</td></tr>\n",
       "\t<tr><th scope=row>p.val</th><td> 0.000000</td></tr>\n",
       "</tbody>\n",
       "</table>\n"
      ],
      "text/latex": [
       "\\begin{tabular}{r|l}\n",
       "  & sar1\\\\\n",
       "\\hline\n",
       "\tt.stat & -6.390891\\\\\n",
       "\tp.val &  0.000000\\\\\n",
       "\\end{tabular}\n"
      ],
      "text/markdown": [
       "\n",
       "| <!--/--> | sar1 |\n",
       "|---|---|\n",
       "| t.stat | -6.390891 |\n",
       "| p.val |  0.000000 |\n",
       "\n"
      ],
      "text/plain": [
       "       sar1     \n",
       "t.stat -6.390891\n",
       "p.val   0.000000"
      ]
     },
     "metadata": {},
     "output_type": "display_data"
    },
    {
     "data": {
      "text/html": [
       "<table>\n",
       "<thead><tr><th scope=col>Retard</th><th scope=col>p-value</th></tr></thead>\n",
       "<tbody>\n",
       "\t<tr><td> 6     </td><td>0.48144</td></tr>\n",
       "\t<tr><td>12     </td><td>0.18943</td></tr>\n",
       "\t<tr><td>18     </td><td>0.24122</td></tr>\n",
       "\t<tr><td>24     </td><td>0.42217</td></tr>\n",
       "\t<tr><td>30     </td><td>0.59022</td></tr>\n",
       "\t<tr><td>36     </td><td>0.77469</td></tr>\n",
       "</tbody>\n",
       "</table>\n"
      ],
      "text/latex": [
       "\\begin{tabular}{ll}\n",
       " Retard & p-value\\\\\n",
       "\\hline\n",
       "\t  6      & 0.48144\\\\\n",
       "\t 12      & 0.18943\\\\\n",
       "\t 18      & 0.24122\\\\\n",
       "\t 24      & 0.42217\\\\\n",
       "\t 30      & 0.59022\\\\\n",
       "\t 36      & 0.77469\\\\\n",
       "\\end{tabular}\n"
      ],
      "text/markdown": [
       "\n",
       "| Retard | p-value |\n",
       "|---|---|\n",
       "|  6      | 0.48144 |\n",
       "| 12      | 0.18943 |\n",
       "| 18      | 0.24122 |\n",
       "| 24      | 0.42217 |\n",
       "| 30      | 0.59022 |\n",
       "| 36      | 0.77469 |\n",
       "\n"
      ],
      "text/plain": [
       "     Retard p-value\n",
       "[1,]  6     0.48144\n",
       "[2,] 12     0.18943\n",
       "[3,] 18     0.24122\n",
       "[4,] 24     0.42217\n",
       "[5,] 30     0.59022\n",
       "[6,] 36     0.77469"
      ]
     },
     "metadata": {},
     "output_type": "display_data"
    },
    {
     "data": {
      "text/plain": [
       "\n",
       "\tShapiro-Wilk normality test\n",
       "\n",
       "data:  model1$residuals\n",
       "W = 0.95551, p-value = 0.02848\n"
      ]
     },
     "metadata": {},
     "output_type": "display_data"
    }
   ],
   "source": [
    "model1 <- Arima(conso_corr, order = c(0, 0, 0), list(order = c(1, 1, 0), period = 12), include.mean = F, method = 'CSS-ML')\n",
    "summary(model1)\n",
    "\n",
    "# Test de significativité des paramètres dans le modèle:\n",
    "t_stat(model1)\n",
    "\n",
    "# Test de blancheur des résidus du modèle:\n",
    "Box.test.2(model1$residuals, nlag = c(6,12,18,24,30,36), type = 'Ljung-Box', decim = 5)\n",
    "\n",
    "# Test de normalité des résidus:\n",
    "shapiro.test(model1$residuals)"
   ]
  },
  {
   "cell_type": "markdown",
   "metadata": {},
   "source": [
    "CCL: Parfait!"
   ]
  },
  {
   "cell_type": "markdown",
   "metadata": {},
   "source": [
    "<a href=\"#sommaire\">Retour au sommaire</a>\n",
    "### Modèle SARIMA(1, 0, 0)(1, 1, 1)[12]:"
   ]
  },
  {
   "cell_type": "code",
   "execution_count": 60,
   "metadata": {},
   "outputs": [
    {
     "name": "stdout",
     "output_type": "stream",
     "text": [
      "Series: conso_corr \n",
      "ARIMA(1,0,0)(1,1,1)[12] \n",
      "\n",
      "Coefficients:\n",
      "         ar1     sar1     sma1\n",
      "      0.0647  -0.5813  -0.2058\n",
      "s.e.  0.1499   0.1976   0.2577\n",
      "\n",
      "sigma^2 estimated as 7381:  log likelihood=-284.4\n",
      "AIC=576.81   AICc=577.74   BIC=584.29\n",
      "\n",
      "Training set error measures:\n",
      "                   ME     RMSE      MAE       MPE     MAPE      MASE\n",
      "Training set 18.57523 74.40039 52.81473 0.5747391 1.791818 0.5443401\n",
      "                    ACF1\n",
      "Training set -0.04596514\n"
     ]
    },
    {
     "data": {
      "text/html": [
       "<table>\n",
       "<thead><tr><th></th><th scope=col>ar1</th><th scope=col>sar1</th><th scope=col>sma1</th></tr></thead>\n",
       "<tbody>\n",
       "\t<tr><th scope=row>t.stat</th><td>0.431374 </td><td>-2.942216</td><td>-0.798421</td></tr>\n",
       "\t<tr><th scope=row>p.val</th><td>0.666196 </td><td> 0.003259</td><td> 0.424626</td></tr>\n",
       "</tbody>\n",
       "</table>\n"
      ],
      "text/latex": [
       "\\begin{tabular}{r|lll}\n",
       "  & ar1 & sar1 & sma1\\\\\n",
       "\\hline\n",
       "\tt.stat & 0.431374  & -2.942216 & -0.798421\\\\\n",
       "\tp.val & 0.666196  &  0.003259 &  0.424626\\\\\n",
       "\\end{tabular}\n"
      ],
      "text/markdown": [
       "\n",
       "| <!--/--> | ar1 | sar1 | sma1 |\n",
       "|---|---|---|---|\n",
       "| t.stat | 0.431374  | -2.942216 | -0.798421 |\n",
       "| p.val | 0.666196  |  0.003259 |  0.424626 |\n",
       "\n"
      ],
      "text/plain": [
       "       ar1      sar1      sma1     \n",
       "t.stat 0.431374 -2.942216 -0.798421\n",
       "p.val  0.666196  0.003259  0.424626"
      ]
     },
     "metadata": {},
     "output_type": "display_data"
    },
    {
     "data": {
      "text/html": [
       "<table>\n",
       "<thead><tr><th scope=col>Retard</th><th scope=col>p-value</th></tr></thead>\n",
       "<tbody>\n",
       "\t<tr><td> 6     </td><td>0.59114</td></tr>\n",
       "\t<tr><td>12     </td><td>0.39082</td></tr>\n",
       "\t<tr><td>18     </td><td>0.46248</td></tr>\n",
       "\t<tr><td>24     </td><td>0.65177</td></tr>\n",
       "\t<tr><td>30     </td><td>0.79289</td></tr>\n",
       "\t<tr><td>36     </td><td>0.90699</td></tr>\n",
       "</tbody>\n",
       "</table>\n"
      ],
      "text/latex": [
       "\\begin{tabular}{ll}\n",
       " Retard & p-value\\\\\n",
       "\\hline\n",
       "\t  6      & 0.59114\\\\\n",
       "\t 12      & 0.39082\\\\\n",
       "\t 18      & 0.46248\\\\\n",
       "\t 24      & 0.65177\\\\\n",
       "\t 30      & 0.79289\\\\\n",
       "\t 36      & 0.90699\\\\\n",
       "\\end{tabular}\n"
      ],
      "text/markdown": [
       "\n",
       "| Retard | p-value |\n",
       "|---|---|\n",
       "|  6      | 0.59114 |\n",
       "| 12      | 0.39082 |\n",
       "| 18      | 0.46248 |\n",
       "| 24      | 0.65177 |\n",
       "| 30      | 0.79289 |\n",
       "| 36      | 0.90699 |\n",
       "\n"
      ],
      "text/plain": [
       "     Retard p-value\n",
       "[1,]  6     0.59114\n",
       "[2,] 12     0.39082\n",
       "[3,] 18     0.46248\n",
       "[4,] 24     0.65177\n",
       "[5,] 30     0.79289\n",
       "[6,] 36     0.90699"
      ]
     },
     "metadata": {},
     "output_type": "display_data"
    },
    {
     "data": {
      "text/plain": [
       "\n",
       "\tShapiro-Wilk normality test\n",
       "\n",
       "data:  model2$residuals\n",
       "W = 0.96022, p-value = 0.04823\n"
      ]
     },
     "metadata": {},
     "output_type": "display_data"
    }
   ],
   "source": [
    "model2 <- Arima(conso_corr, order = c(1, 0, 0), list(order = c(1, 1, 1), period = 12), include.mean = F, method = 'CSS-ML')\n",
    "summary(model2)\n",
    "\n",
    "# Test de significativité des paramètres dans le modèle:\n",
    "t_stat(model2)\n",
    "\n",
    "# Test de blancheur des résidus du modèle:\n",
    "Box.test.2(model2$residuals, nlag = c(6,12,18,24,30,36), type = 'Ljung-Box', decim = 5)\n",
    "\n",
    "# Test de normalité des résidus:\n",
    "shapiro.test(model2$residuals)"
   ]
  },
  {
   "cell_type": "markdown",
   "metadata": {},
   "source": [
    "CCL:\n",
    "- Deux paramètres sont significativement différent de zéro: Le modèle ne sera pas conservé.\n",
    "- Les résidus sont des bruits blancs gaussiens aux niveaux de 1%.\n",
    "- Le MAPE est de 1.8%."
   ]
  },
  {
   "cell_type": "markdown",
   "metadata": {},
   "source": [
    "<a href=\"#sommaire\">Retour au sommaire</a>\n",
    "### Modèle SARIMA(0, 0, 1)(1, 1, 1)[12]:"
   ]
  },
  {
   "cell_type": "code",
   "execution_count": 61,
   "metadata": {},
   "outputs": [
    {
     "name": "stdout",
     "output_type": "stream",
     "text": [
      "Series: conso_corr \n",
      "ARIMA(0,0,1)(1,1,1)[12] \n",
      "\n",
      "Coefficients:\n",
      "        ma1     sar1     sma1\n",
      "      0.088  -0.5933  -0.1949\n",
      "s.e.  0.174   0.2022   0.2617\n",
      "\n",
      "sigma^2 estimated as 7352:  log likelihood=-284.37\n",
      "AIC=576.74   AICc=577.67   BIC=584.22\n",
      "\n",
      "Training set error measures:\n",
      "                   ME    RMSE      MAE       MPE     MAPE      MASE        ACF1\n",
      "Training set 18.18102 74.2549 52.49387 0.5616355 1.780909 0.5410332 -0.06138417\n"
     ]
    },
    {
     "data": {
      "text/html": [
       "<table>\n",
       "<thead><tr><th></th><th scope=col>ma1</th><th scope=col>sar1</th><th scope=col>sma1</th></tr></thead>\n",
       "<tbody>\n",
       "\t<tr><th scope=row>t.stat</th><td>0.505588 </td><td>-2.934309</td><td>-0.744758</td></tr>\n",
       "\t<tr><th scope=row>p.val</th><td>0.613146 </td><td> 0.003343</td><td> 0.456418</td></tr>\n",
       "</tbody>\n",
       "</table>\n"
      ],
      "text/latex": [
       "\\begin{tabular}{r|lll}\n",
       "  & ma1 & sar1 & sma1\\\\\n",
       "\\hline\n",
       "\tt.stat & 0.505588  & -2.934309 & -0.744758\\\\\n",
       "\tp.val & 0.613146  &  0.003343 &  0.456418\\\\\n",
       "\\end{tabular}\n"
      ],
      "text/markdown": [
       "\n",
       "| <!--/--> | ma1 | sar1 | sma1 |\n",
       "|---|---|---|---|\n",
       "| t.stat | 0.505588  | -2.934309 | -0.744758 |\n",
       "| p.val | 0.613146  |  0.003343 |  0.456418 |\n",
       "\n"
      ],
      "text/plain": [
       "       ma1      sar1      sma1     \n",
       "t.stat 0.505588 -2.934309 -0.744758\n",
       "p.val  0.613146  0.003343  0.456418"
      ]
     },
     "metadata": {},
     "output_type": "display_data"
    },
    {
     "data": {
      "text/html": [
       "<table>\n",
       "<thead><tr><th scope=col>Retard</th><th scope=col>p-value</th></tr></thead>\n",
       "<tbody>\n",
       "\t<tr><td> 6     </td><td>0.60585</td></tr>\n",
       "\t<tr><td>12     </td><td>0.40200</td></tr>\n",
       "\t<tr><td>18     </td><td>0.47173</td></tr>\n",
       "\t<tr><td>24     </td><td>0.65572</td></tr>\n",
       "\t<tr><td>30     </td><td>0.79430</td></tr>\n",
       "\t<tr><td>36     </td><td>0.90663</td></tr>\n",
       "</tbody>\n",
       "</table>\n"
      ],
      "text/latex": [
       "\\begin{tabular}{ll}\n",
       " Retard & p-value\\\\\n",
       "\\hline\n",
       "\t  6      & 0.60585\\\\\n",
       "\t 12      & 0.40200\\\\\n",
       "\t 18      & 0.47173\\\\\n",
       "\t 24      & 0.65572\\\\\n",
       "\t 30      & 0.79430\\\\\n",
       "\t 36      & 0.90663\\\\\n",
       "\\end{tabular}\n"
      ],
      "text/markdown": [
       "\n",
       "| Retard | p-value |\n",
       "|---|---|\n",
       "|  6      | 0.60585 |\n",
       "| 12      | 0.40200 |\n",
       "| 18      | 0.47173 |\n",
       "| 24      | 0.65572 |\n",
       "| 30      | 0.79430 |\n",
       "| 36      | 0.90663 |\n",
       "\n"
      ],
      "text/plain": [
       "     Retard p-value\n",
       "[1,]  6     0.60585\n",
       "[2,] 12     0.40200\n",
       "[3,] 18     0.47173\n",
       "[4,] 24     0.65572\n",
       "[5,] 30     0.79430\n",
       "[6,] 36     0.90663"
      ]
     },
     "metadata": {},
     "output_type": "display_data"
    },
    {
     "data": {
      "text/plain": [
       "\n",
       "\tShapiro-Wilk normality test\n",
       "\n",
       "data:  model3$residuals\n",
       "W = 0.95939, p-value = 0.04393\n"
      ]
     },
     "metadata": {},
     "output_type": "display_data"
    }
   ],
   "source": [
    "model3 <- Arima(conso_corr, order = c(0, 0, 1), list(order = c(1, 1, 1), period = 12), include.mean = F, method = 'CSS-ML')\n",
    "summary(model3)\n",
    "\n",
    "# Test de significativité des paramètres dans le modèle:\n",
    "t_stat(model3)\n",
    "\n",
    "# Test de blancheur des résidus du modèle:\n",
    "Box.test.2(model3$residuals, nlag = c(6,12,18,24,30,36), type = 'Ljung-Box', decim = 5)\n",
    "\n",
    "# Test de normalité des résidus:\n",
    "shapiro.test(model3$residuals)"
   ]
  },
  {
   "cell_type": "markdown",
   "metadata": {},
   "source": [
    "CCL:\n",
    "- Deux paramètres sont significativement différent de zéro.\n",
    "- Les résidus sont des bruits blancs gaussiens aux niveaux de 1%.\n",
    "- Le MAPE est de 1.8%.\n",
    "\n",
    "Au final, le modèle ne sera pas conservé."
   ]
  },
  {
   "cell_type": "markdown",
   "metadata": {},
   "source": [
    "<a href=\"#sommaire\">Retour au sommaire</a>\n",
    "### Modèle SARIMA(1, 0, 1)(1, 1, 1)[12]:"
   ]
  },
  {
   "cell_type": "code",
   "execution_count": 62,
   "metadata": {},
   "outputs": [
    {
     "name": "stdout",
     "output_type": "stream",
     "text": [
      "Series: conso_corr \n",
      "ARIMA(1,0,1)(1,1,1)[12] \n",
      "\n",
      "Coefficients:\n",
      "          ar1     ma1     sar1     sma1\n",
      "      -0.8581  1.0000  -0.5778  -0.2233\n",
      "s.e.   0.1054  0.0815   0.1882   0.2507\n",
      "\n",
      "sigma^2 estimated as 6973:  log likelihood=-283.81\n",
      "AIC=577.63   AICc=579.06   BIC=586.99\n",
      "\n",
      "Training set error measures:\n",
      "                   ME    RMSE      MAE       MPE    MAPE      MASE       ACF1\n",
      "Training set 18.38866 71.5102 49.97529 0.5724696 1.69709 0.5150752 -0.0585468\n"
     ]
    },
    {
     "data": {
      "text/html": [
       "<table>\n",
       "<thead><tr><th></th><th scope=col>ar1</th><th scope=col>ma1</th><th scope=col>sar1</th><th scope=col>sma1</th></tr></thead>\n",
       "<tbody>\n",
       "\t<tr><th scope=row>t.stat</th><td>-8.137197</td><td>12.27702 </td><td>-3.070544</td><td>-0.890642</td></tr>\n",
       "\t<tr><th scope=row>p.val</th><td> 0.000000</td><td> 0.00000 </td><td> 0.002137</td><td> 0.373121</td></tr>\n",
       "</tbody>\n",
       "</table>\n"
      ],
      "text/latex": [
       "\\begin{tabular}{r|llll}\n",
       "  & ar1 & ma1 & sar1 & sma1\\\\\n",
       "\\hline\n",
       "\tt.stat & -8.137197 & 12.27702  & -3.070544 & -0.890642\\\\\n",
       "\tp.val &  0.000000 &  0.00000  &  0.002137 &  0.373121\\\\\n",
       "\\end{tabular}\n"
      ],
      "text/markdown": [
       "\n",
       "| <!--/--> | ar1 | ma1 | sar1 | sma1 |\n",
       "|---|---|---|---|---|\n",
       "| t.stat | -8.137197 | 12.27702  | -3.070544 | -0.890642 |\n",
       "| p.val |  0.000000 |  0.00000  |  0.002137 |  0.373121 |\n",
       "\n"
      ],
      "text/plain": [
       "       ar1       ma1      sar1      sma1     \n",
       "t.stat -8.137197 12.27702 -3.070544 -0.890642\n",
       "p.val   0.000000  0.00000  0.002137  0.373121"
      ]
     },
     "metadata": {},
     "output_type": "display_data"
    },
    {
     "data": {
      "text/html": [
       "<table>\n",
       "<thead><tr><th scope=col>Retard</th><th scope=col>p-value</th></tr></thead>\n",
       "<tbody>\n",
       "\t<tr><td> 6     </td><td>0.71069</td></tr>\n",
       "\t<tr><td>12     </td><td>0.53567</td></tr>\n",
       "\t<tr><td>18     </td><td>0.59684</td></tr>\n",
       "\t<tr><td>24     </td><td>0.78367</td></tr>\n",
       "\t<tr><td>30     </td><td>0.88123</td></tr>\n",
       "\t<tr><td>36     </td><td>0.94753</td></tr>\n",
       "</tbody>\n",
       "</table>\n"
      ],
      "text/latex": [
       "\\begin{tabular}{ll}\n",
       " Retard & p-value\\\\\n",
       "\\hline\n",
       "\t  6      & 0.71069\\\\\n",
       "\t 12      & 0.53567\\\\\n",
       "\t 18      & 0.59684\\\\\n",
       "\t 24      & 0.78367\\\\\n",
       "\t 30      & 0.88123\\\\\n",
       "\t 36      & 0.94753\\\\\n",
       "\\end{tabular}\n"
      ],
      "text/markdown": [
       "\n",
       "| Retard | p-value |\n",
       "|---|---|\n",
       "|  6      | 0.71069 |\n",
       "| 12      | 0.53567 |\n",
       "| 18      | 0.59684 |\n",
       "| 24      | 0.78367 |\n",
       "| 30      | 0.88123 |\n",
       "| 36      | 0.94753 |\n",
       "\n"
      ],
      "text/plain": [
       "     Retard p-value\n",
       "[1,]  6     0.71069\n",
       "[2,] 12     0.53567\n",
       "[3,] 18     0.59684\n",
       "[4,] 24     0.78367\n",
       "[5,] 30     0.88123\n",
       "[6,] 36     0.94753"
      ]
     },
     "metadata": {},
     "output_type": "display_data"
    },
    {
     "data": {
      "text/plain": [
       "\n",
       "\tShapiro-Wilk normality test\n",
       "\n",
       "data:  model4$residuals\n",
       "W = 0.95222, p-value = 0.01984\n"
      ]
     },
     "metadata": {},
     "output_type": "display_data"
    }
   ],
   "source": [
    "model4 <- Arima(conso_corr, order = c(1, 0, 1), list(order = c(1, 1, 1), period = 12), include.mean = F, method = 'CSS-ML')\n",
    "summary(model4)\n",
    "\n",
    "# Test de significativité des paramètres dans le modèle:\n",
    "t_stat(model4)\n",
    "\n",
    "# Test de blancheur des résidus du modèle:\n",
    "Box.test.2(model4$residuals, nlag = c(6,12,18,24,30,36), type = 'Ljung-Box', decim = 5)\n",
    "\n",
    "# Test de normalité des résidus:\n",
    "shapiro.test(model4$residuals)"
   ]
  },
  {
   "cell_type": "markdown",
   "metadata": {},
   "source": [
    "CCL: au vu des résultats, on teste le modèle SARIMA(1, 0, 1)(1, 1, 0)[12]: la significativité des paramètres n'est pas concluantes.\n",
    "\n",
    "Au final, le modèle SARIMA(0, 0, 0)(1, 1, 0)[12] est le seul viable."
   ]
  },
  {
   "cell_type": "markdown",
   "metadata": {},
   "source": [
    "<a href=\"#sommaire\">Retour au sommaire</a>\n",
    "### Modèle déterminé par la commande auto.arima:"
   ]
  },
  {
   "cell_type": "code",
   "execution_count": 63,
   "metadata": {},
   "outputs": [
    {
     "data": {
      "text/plain": [
       "Series: conso_corr \n",
       "ARIMA(0,0,0)(1,1,0)[12] with drift \n",
       "\n",
       "Coefficients:\n",
       "         sar1   drift\n",
       "      -0.6816  1.0331\n",
       "s.e.   0.1034  0.6649\n",
       "\n",
       "sigma^2 estimated as 7129:  log likelihood=-283.75\n",
       "AIC=573.51   AICc=574.06   BIC=579.12"
      ]
     },
     "metadata": {},
     "output_type": "display_data"
    },
    {
     "data": {
      "text/html": [
       "<table>\n",
       "<thead><tr><th></th><th scope=col>sar1</th><th scope=col>drift</th></tr></thead>\n",
       "<tbody>\n",
       "\t<tr><th scope=row>t.stat</th><td>-6.591171</td><td>1.553826 </td></tr>\n",
       "\t<tr><th scope=row>p.val</th><td> 0.000000</td><td>0.120226 </td></tr>\n",
       "</tbody>\n",
       "</table>\n"
      ],
      "text/latex": [
       "\\begin{tabular}{r|ll}\n",
       "  & sar1 & drift\\\\\n",
       "\\hline\n",
       "\tt.stat & -6.591171 & 1.553826 \\\\\n",
       "\tp.val &  0.000000 & 0.120226 \\\\\n",
       "\\end{tabular}\n"
      ],
      "text/markdown": [
       "\n",
       "| <!--/--> | sar1 | drift |\n",
       "|---|---|---|\n",
       "| t.stat | -6.591171 | 1.553826  |\n",
       "| p.val |  0.000000 | 0.120226  |\n",
       "\n"
      ],
      "text/plain": [
       "       sar1      drift   \n",
       "t.stat -6.591171 1.553826\n",
       "p.val   0.000000 0.120226"
      ]
     },
     "metadata": {},
     "output_type": "display_data"
    },
    {
     "data": {
      "text/html": [
       "<table>\n",
       "<thead><tr><th scope=col>Retard</th><th scope=col>p-value</th></tr></thead>\n",
       "<tbody>\n",
       "\t<tr><td> 6     </td><td>0.46305</td></tr>\n",
       "\t<tr><td>12     </td><td>0.21717</td></tr>\n",
       "\t<tr><td>18     </td><td>0.24185</td></tr>\n",
       "\t<tr><td>24     </td><td>0.43148</td></tr>\n",
       "\t<tr><td>30     </td><td>0.59655</td></tr>\n",
       "\t<tr><td>36     </td><td>0.79008</td></tr>\n",
       "</tbody>\n",
       "</table>\n"
      ],
      "text/latex": [
       "\\begin{tabular}{ll}\n",
       " Retard & p-value\\\\\n",
       "\\hline\n",
       "\t  6      & 0.46305\\\\\n",
       "\t 12      & 0.21717\\\\\n",
       "\t 18      & 0.24185\\\\\n",
       "\t 24      & 0.43148\\\\\n",
       "\t 30      & 0.59655\\\\\n",
       "\t 36      & 0.79008\\\\\n",
       "\\end{tabular}\n"
      ],
      "text/markdown": [
       "\n",
       "| Retard | p-value |\n",
       "|---|---|\n",
       "|  6      | 0.46305 |\n",
       "| 12      | 0.21717 |\n",
       "| 18      | 0.24185 |\n",
       "| 24      | 0.43148 |\n",
       "| 30      | 0.59655 |\n",
       "| 36      | 0.79008 |\n",
       "\n"
      ],
      "text/plain": [
       "     Retard p-value\n",
       "[1,]  6     0.46305\n",
       "[2,] 12     0.21717\n",
       "[3,] 18     0.24185\n",
       "[4,] 24     0.43148\n",
       "[5,] 30     0.59655\n",
       "[6,] 36     0.79008"
      ]
     },
     "metadata": {},
     "output_type": "display_data"
    },
    {
     "data": {
      "text/plain": [
       "\n",
       "\tShapiro-Wilk normality test\n",
       "\n",
       "data:  autoarima$residuals\n",
       "W = 0.95398, p-value = 0.02406\n"
      ]
     },
     "metadata": {},
     "output_type": "display_data"
    }
   ],
   "source": [
    "(autoarima <-auto.arima(conso_corr, seasonal = T, stepwise = F, approximation = F))\n",
    "\n",
    "# Test de significativité des paramètres dans le modèle:\n",
    "t_stat(autoarima)\n",
    "\n",
    "# Test de blancheur des résidus du modèle:\n",
    "Box.test.2(autoarima$residuals, nlag = c(6,12,18,24,30,36), type = 'Ljung-Box', decim = 5)\n",
    "\n",
    "# Test de normalité des résidus:\n",
    "shapiro.test(autoarima$residuals)"
   ]
  },
  {
   "cell_type": "code",
   "execution_count": 64,
   "metadata": {},
   "outputs": [
    {
     "name": "stdout",
     "output_type": "stream",
     "text": [
      "\n",
      "\tLjung-Box test\n",
      "\n",
      "data:  Residuals from ARIMA(0,0,0)(1,1,0)[12] with drift\n",
      "Q* = 18.307, df = 10, p-value = 0.05\n",
      "\n",
      "Model df: 2.   Total lags used: 12\n",
      "\n"
     ]
    },
    {
     "data": {
      "image/png": "[encoded data removed]",
      "text/plain": [
       "plot without title"
      ]
     },
     "metadata": {},
     "output_type": "display_data"
    }
   ],
   "source": [
    "checkresiduals(autoarima)"
   ]
  },
  {
   "cell_type": "markdown",
   "metadata": {},
   "source": [
    "CCL: Les tests valident la significativité des paramètres et la blancheur gaussienne des résidus au seuil de 1%."
   ]
  },
  {
   "cell_type": "code",
   "execution_count": 65,
   "metadata": {},
   "outputs": [
    {
     "name": "stdout",
     "output_type": "stream",
     "text": [
      "Erreur quadratique moyenne RMSE: 73.93 \n",
      "Erreur absolue moyenne MAPE: 1.76 %"
     ]
    }
   ],
   "source": [
    "cat('Erreur quadratique moyenne RMSE:', round(accuracy(autoarima)[, 'RMSE'], 2), '\\n')\n",
    "cat('Erreur absolue moyenne MAPE:', round(accuracy(autoarima)[, 'MAPE'], 2), '%')"
   ]
  },
  {
   "cell_type": "markdown",
   "metadata": {},
   "source": [
    "CCL: Le modèle que nous avions estimé était bon et identique à celui paramétré par auto.arima, à la différence près qu'il y joint une constante en plus (bien que significativement différente de zéro)."
   ]
  },
  {
   "cell_type": "markdown",
   "metadata": {},
   "source": [
    "<a href=\"#sommaire\">Retour au sommaire</a>\n",
    "## <span style='color:brown'>c) Prédiction de la consommation corrigée.<a name=\"M3123\"></a>"
   ]
  },
  {
   "cell_type": "markdown",
   "metadata": {},
   "source": [
    "On emploie donc le modèle déterminé par la auto.arima."
   ]
  },
  {
   "cell_type": "code",
   "execution_count": 66,
   "metadata": {},
   "outputs": [
    {
     "data": {
      "image/png": "[encoded data removed]",
      "text/plain": [
       "Plot with title \"Prédiction de la consommation corrigée\n",
       "avec SARIMA(0, 0, 0)(1, 1, 0)[12] (et constante)\""
      ]
     },
     "metadata": {},
     "output_type": "display_data"
    }
   ],
   "source": [
    "options(repr.plot.width = 8, repr.plot.height = 5)\n",
    "\n",
    "pred_model = forecast(autoarima, h = 12, level = 95)\n",
    "\n",
    "pred = ts(c(conso_corr[60], pred_model$mean), start = c(2018, 12), frequency = 12)\n",
    "lower = ts(pred_model$lower, start = c(2019, 1), frequency = 12)\n",
    "upper = ts(pred_model$upper, start= c(2019, 1), frequency = 12)\n",
    "\n",
    "ts.plot(conso_corr, pred, lower, upper, xlab = 'Temps', ylab = 'Consommation (MW)', col = c(1,2,3,3), lty = c(1,1,2,2),\n",
    "        lwd = c(1,3,2,2), main = 'Prédiction de la consommation corrigée\\navec SARIMA(0, 0, 0)(1, 1, 0)[12] (et constante)')\n",
    "grid()"
   ]
  },
  {
   "cell_type": "code",
   "execution_count": 67,
   "metadata": {},
   "outputs": [
    {
     "name": "stdout",
     "output_type": "stream",
     "text": [
      "\n",
      "Forecast method: ARIMA(0,0,0)(1,1,0)[12] with drift\n",
      "\n",
      "Model Information:\n",
      "Series: conso_corr \n",
      "ARIMA(0,0,0)(1,1,0)[12] with drift \n",
      "\n",
      "Coefficients:\n",
      "         sar1   drift\n",
      "      -0.6816  1.0331\n",
      "s.e.   0.1034  0.6649\n",
      "\n",
      "sigma^2 estimated as 7129:  log likelihood=-283.75\n",
      "AIC=573.51   AICc=574.06   BIC=579.12\n",
      "\n",
      "Error measures:\n",
      "                   ME     RMSE      MAE        MPE     MAPE      MASE      ACF1\n",
      "Training set 3.654587 73.92973 51.45605 0.06607411 1.759434 0.5303368 0.0473015\n",
      "\n",
      "Forecasts:\n",
      "         Point Forecast    Lo 95    Hi 95\n",
      "Jan 2019       3202.430 3036.943 3367.917\n",
      "Feb 2019       2857.541 2692.054 3023.028\n",
      "Mar 2019       2977.369 2811.882 3142.856\n",
      "Apr 2019       2650.211 2484.724 2815.698\n",
      "May 2019       2827.878 2662.391 2993.365\n",
      "Jun 2019       2968.207 2802.720 3133.694\n",
      "Jul 2019       3174.281 3008.794 3339.768\n",
      "Aug 2019       3102.042 2936.555 3267.529\n",
      "Sep 2019       2899.287 2733.800 3064.774\n",
      "Oct 2019       2899.212 2733.725 3064.699\n",
      "Nov 2019       2849.267 2683.780 3014.754\n",
      "Dec 2019       3035.461 2869.974 3200.948\n"
     ]
    }
   ],
   "source": [
    "summary(pred_model)"
   ]
  },
  {
   "cell_type": "code",
   "execution_count": 69,
   "metadata": {},
   "outputs": [
    {
     "data": {
      "image/png": "[encoded data removed]",
      "text/plain": [
       "Plot with title \"Prédiction de la consommation corrigée\n",
       "avec SARIMA(0, 0, 0)(1, 1, 0)[12] (et constante)\""
      ]
     },
     "metadata": {},
     "output_type": "display_data"
    }
   ],
   "source": [
    "options(repr.plot.width = 8, repr.plot.height = 5)\n",
    "\n",
    "pred_model = forecast(autoarima, h = 12, level = 95)\n",
    "\n",
    "pred = ts(c(conso_corr[60], pred_model$mean), start = c(2018, 12), frequency = 12)\n",
    "lower = ts(pred_model$lower, start = c(2019, 1), frequency = 12)\n",
    "upper = ts(pred_model$upper, start= c(2019, 1), frequency = 12)\n",
    "\n",
    "ts.plot(window(conso_corr, start = 2018), pred, lower, upper, xlab = 'Temps', ylab = 'Consommation (MW)', col = c(1,2,3,3), lty = c(1,1,2,2),\n",
    "        lwd = c(1,3,2,2), main = 'Prédiction de la consommation corrigée\\navec SARIMA(0, 0, 0)(1, 1, 0)[12] (et constante)')\n",
    "grid()"
   ]
  },
  {
   "cell_type": "markdown",
   "metadata": {},
   "source": [
    "<a href=\"#sommaire\">Retour au sommaire</a>\n",
    "## Analyse a posteriori:<a name=\"M31231\"></a>"
   ]
  },
  {
   "cell_type": "code",
   "execution_count": 70,
   "metadata": {},
   "outputs": [],
   "source": [
    "# On tronque la série de l’année 2018, qu’on cherche ensuite à prévoir à partir de l’historique 2014-2017.\n",
    "conso_tronc = window(conso_corr, end = c(2017, 12))\n",
    "conso_a_prevoir = window(conso_corr, start = c(2018, 1))"
   ]
  },
  {
   "cell_type": "code",
   "execution_count": 71,
   "metadata": {},
   "outputs": [
    {
     "name": "stdout",
     "output_type": "stream",
     "text": [
      "Series: conso_tronc \n",
      "ARIMA(0,0,0)(1,1,0)[12] \n",
      "\n",
      "Coefficients:\n",
      "         sar1\n",
      "      -0.5671\n",
      "s.e.   0.1535\n",
      "\n",
      "sigma^2 estimated as 8645:  log likelihood=-216.06\n",
      "AIC=436.13   AICc=436.49   BIC=439.29\n",
      "\n",
      "Training set error measures:\n",
      "                   ME    RMSE      MAE       MPE     MAPE      MASE       ACF1\n",
      "Training set 17.14758 79.3973 54.91193 0.5278445 1.869558 0.6047047 0.07157157\n"
     ]
    },
    {
     "data": {
      "text/html": [
       "<table>\n",
       "<thead><tr><th></th><th scope=col>sar1</th></tr></thead>\n",
       "<tbody>\n",
       "\t<tr><th scope=row>t.stat</th><td>-3.693358</td></tr>\n",
       "\t<tr><th scope=row>p.val</th><td> 0.000221</td></tr>\n",
       "</tbody>\n",
       "</table>\n"
      ],
      "text/latex": [
       "\\begin{tabular}{r|l}\n",
       "  & sar1\\\\\n",
       "\\hline\n",
       "\tt.stat & -3.693358\\\\\n",
       "\tp.val &  0.000221\\\\\n",
       "\\end{tabular}\n"
      ],
      "text/markdown": [
       "\n",
       "| <!--/--> | sar1 |\n",
       "|---|---|\n",
       "| t.stat | -3.693358 |\n",
       "| p.val |  0.000221 |\n",
       "\n"
      ],
      "text/plain": [
       "       sar1     \n",
       "t.stat -3.693358\n",
       "p.val   0.000221"
      ]
     },
     "metadata": {},
     "output_type": "display_data"
    },
    {
     "data": {
      "text/html": [
       "<table>\n",
       "<thead><tr><th scope=col>Retard</th><th scope=col>p-value</th></tr></thead>\n",
       "<tbody>\n",
       "\t<tr><td> 6     </td><td>0.60340</td></tr>\n",
       "\t<tr><td>12     </td><td>0.53745</td></tr>\n",
       "\t<tr><td>18     </td><td>0.40475</td></tr>\n",
       "\t<tr><td>24     </td><td>0.62800</td></tr>\n",
       "\t<tr><td>30     </td><td>0.83148</td></tr>\n",
       "\t<tr><td>36     </td><td>0.95758</td></tr>\n",
       "</tbody>\n",
       "</table>\n"
      ],
      "text/latex": [
       "\\begin{tabular}{ll}\n",
       " Retard & p-value\\\\\n",
       "\\hline\n",
       "\t  6      & 0.60340\\\\\n",
       "\t 12      & 0.53745\\\\\n",
       "\t 18      & 0.40475\\\\\n",
       "\t 24      & 0.62800\\\\\n",
       "\t 30      & 0.83148\\\\\n",
       "\t 36      & 0.95758\\\\\n",
       "\\end{tabular}\n"
      ],
      "text/markdown": [
       "\n",
       "| Retard | p-value |\n",
       "|---|---|\n",
       "|  6      | 0.60340 |\n",
       "| 12      | 0.53745 |\n",
       "| 18      | 0.40475 |\n",
       "| 24      | 0.62800 |\n",
       "| 30      | 0.83148 |\n",
       "| 36      | 0.95758 |\n",
       "\n"
      ],
      "text/plain": [
       "     Retard p-value\n",
       "[1,]  6     0.60340\n",
       "[2,] 12     0.53745\n",
       "[3,] 18     0.40475\n",
       "[4,] 24     0.62800\n",
       "[5,] 30     0.83148\n",
       "[6,] 36     0.95758"
      ]
     },
     "metadata": {},
     "output_type": "display_data"
    },
    {
     "data": {
      "text/plain": [
       "\n",
       "\tShapiro-Wilk normality test\n",
       "\n",
       "data:  model_tronc$residuals\n",
       "W = 0.94782, p-value = 0.03275\n"
      ]
     },
     "metadata": {},
     "output_type": "display_data"
    }
   ],
   "source": [
    "# On vérifie que le modèle trouvé par autoarima sur la série tronquée est toujours validé.\n",
    "model_tronc <- Arima(conso_tronc, order = c(0, 0, 0), list(order = c(1, 1, 0), period = 12), include.mean = F, method = 'CSS-ML')\n",
    "summary(model_tronc)\n",
    "\n",
    "# Significativité des paramètres:\n",
    "t_stat(model_tronc)\n",
    "\n",
    "# Blancheur des résidus:\n",
    "Box.test.2(model_tronc$residuals, nlag = c(6, 12, 18, 24, 30, 36), type = 'Ljung-Box', decim = 5)\n",
    "\n",
    "# Normalité ds résidus:\n",
    "shapiro.test(model_tronc$residuals)"
   ]
  },
  {
   "cell_type": "markdown",
   "metadata": {},
   "source": [
    "CCL:\n",
    "- Le test du paramètre est significatif.\n",
    "- Les résidus sont des bruits blancs gaussiens et sont donc stationnaires au seuil de 1%.\n",
    "\n",
    "Au final notre modèle tronqué est viable."
   ]
  },
  {
   "cell_type": "code",
   "execution_count": 72,
   "metadata": {},
   "outputs": [
    {
     "data": {
      "image/png": "[encoded data removed]",
      "text/plain": [
       "Plot with title \"Analyse a posteriori\""
      ]
     },
     "metadata": {},
     "output_type": "display_data"
    }
   ],
   "source": [
    "options(repr.plot.width = 8, repr.plot.height = 5.5)\n",
    "\n",
    "pred_model_tronc = forecast(model_tronc, h = 12, level = 95)\n",
    "\n",
    "pred_tronc = pred_model_tronc$mean\n",
    "lower_tronc = ts(pred_model_tronc$lower, start = c(2018, 1), frequency = 12)\n",
    "upper_tronc = ts(pred_model_tronc$upper, start = c(2018, 1), frequency = 12)\n",
    "\n",
    "ts.plot(conso_a_prevoir, pred_tronc, lower_tronc, upper_tronc, xlab = 'Temps', ylab = 'Consommation (MW)',\n",
    "        col = c(1, 2, 3, 3), lty = c(1, 1, 2, 2), lwd = c(3, 3, 2, 2), main = 'Analyse a posteriori')\n",
    "\n",
    "legend('topleft', legend = c('Conso_corr', 'Conso_corr_prev'), col = c(1, 2, 3, 3), lty = c(1, 1), lwd = c(3, 3))\n",
    "legend('topright', legend = c('int95%_inf', 'int95%_sup'), col = c(3, 3), lty = c(2, 2), lwd = c(2, 2))"
   ]
  },
  {
   "cell_type": "markdown",
   "metadata": {},
   "source": [
    "<a href=\"#sommaire\">Retour au sommaire</a>\n",
    "# Mission 4<a name=\"M4\"></a>\n",
    "# <span style='color:red'>Prévision de la consommation initiale d'électricité sur un an.<a name=\"M41\"></a>"
   ]
  },
  {
   "cell_type": "markdown",
   "metadata": {},
   "source": [
    "On cherche donc à prédire la consommation d'électricité pour l'année 2019-2020, afin de répondre à la demande initiale."
   ]
  },
  {
   "cell_type": "code",
   "execution_count": 73,
   "metadata": {},
   "outputs": [
    {
     "name": "stdout",
     "output_type": "stream",
     "text": [
      "Series: conso_ts \n",
      "Regression with ARIMA(0,0,0)(1,1,0)[12] errors \n",
      "\n",
      "Coefficients:\n",
      "         sar1    xreg\n",
      "      -0.6974  5.2107\n",
      "s.e.   0.1052  0.2950\n",
      "\n",
      "sigma^2 estimated as 7313:  log likelihood=-284.62\n",
      "AIC=575.23   AICc=575.78   BIC=580.85\n",
      "\n",
      "Training set error measures:\n",
      "                   ME     RMSE      MAE       MPE     MAPE      MASE       ACF1\n",
      "Training set 16.77531 74.87752 52.62206 0.4103491 1.472377 0.2360395 0.02905064\n"
     ]
    },
    {
     "data": {
      "text/html": [
       "<table>\n",
       "<thead><tr><th></th><th scope=col>sar1</th><th scope=col>xreg</th></tr></thead>\n",
       "<tbody>\n",
       "\t<tr><th scope=row>t.stat</th><td>-6.630499</td><td>17.66619 </td></tr>\n",
       "\t<tr><th scope=row>p.val</th><td> 0.000000</td><td> 0.00000 </td></tr>\n",
       "</tbody>\n",
       "</table>\n"
      ],
      "text/latex": [
       "\\begin{tabular}{r|ll}\n",
       "  & sar1 & xreg\\\\\n",
       "\\hline\n",
       "\tt.stat & -6.630499 & 17.66619 \\\\\n",
       "\tp.val &  0.000000 &  0.00000 \\\\\n",
       "\\end{tabular}\n"
      ],
      "text/markdown": [
       "\n",
       "| <!--/--> | sar1 | xreg |\n",
       "|---|---|---|\n",
       "| t.stat | -6.630499 | 17.66619  |\n",
       "| p.val |  0.000000 |  0.00000  |\n",
       "\n"
      ],
      "text/plain": [
       "       sar1      xreg    \n",
       "t.stat -6.630499 17.66619\n",
       "p.val   0.000000  0.00000"
      ]
     },
     "metadata": {},
     "output_type": "display_data"
    },
    {
     "data": {
      "text/plain": [
       "\n",
       "\tBox-Ljung test\n",
       "\n",
       "data:  resid(reg)\n",
       "X-squared = 1.0167, df = 1, p-value = 0.3133\n"
      ]
     },
     "metadata": {},
     "output_type": "display_data"
    },
    {
     "data": {
      "text/plain": [
       "\n",
       "\tShapiro-Wilk normality test\n",
       "\n",
       "data:  resid(model)\n",
       "W = 0.95499, p-value = 0.0269\n"
      ]
     },
     "metadata": {},
     "output_type": "display_data"
    }
   ],
   "source": [
    "model <- auto.arima(conso_ts, xreg = dju_ts, seasonal = T)\n",
    "summary(model)\n",
    "\n",
    "t_stat(model)\n",
    "\n",
    "Box.test(resid(reg), type = 'Ljung-Box')\n",
    "\n",
    "shapiro.test(resid(model))"
   ]
  },
  {
   "cell_type": "markdown",
   "metadata": {},
   "source": [
    "Une régression avec des erreurs ARIMA est donnée par la formule suivante (vue sur Hyndman et al, 1998):\n",
    "\n",
    "$Y_t=b_0+b_1X_{1,t}+ ... +b_kX_{k,t}+n_t$ où $n_t$ est modélisé comme un processus ARIMA."
   ]
  },
  {
   "cell_type": "markdown",
   "metadata": {},
   "source": [
    "CCL:\n",
    "- Les paramètres sont significatifs.\n",
    "- Les résidus sont des bruits blancs gaussiens et sont donc stationnaires.\n",
    "\n",
    "Au final, notre modèle SARIMAX est viable."
   ]
  },
  {
   "cell_type": "code",
   "execution_count": 74,
   "metadata": {},
   "outputs": [
    {
     "name": "stderr",
     "output_type": "stream",
     "text": [
      "Scale for 'x' is already present. Adding another scale for 'x', which will\n",
      "replace the existing scale.\n"
     ]
    },
    {
     "data": {
      "image/png": "[encoded data removed]",
      "text/plain": [
       "plot without title"
      ]
     },
     "metadata": {},
     "output_type": "display_data"
    }
   ],
   "source": [
    "options(repr.plot.width = 8, repr.plot.height = 5)\n",
    "\n",
    "prediction <- forecast(model, xreg = dju_ts, h = 12, level = c(80, 95))\n",
    "\n",
    "autoplot(prediction, xlim = c(2014, 2020), xlab = 'Temps', ylab = 'Consommation (MW)', \n",
    "         main = 'Prévision annuelle de la consommation avec erreurs du modèle SARIMAX(0, 0, 0)(1, 1, 0)[12]')"
   ]
  },
  {
   "cell_type": "code",
   "execution_count": 75,
   "metadata": {},
   "outputs": [
    {
     "name": "stderr",
     "output_type": "stream",
     "text": [
      "Scale for 'x' is already present. Adding another scale for 'x', which will\n",
      "replace the existing scale.\n",
      "Warning message:\n",
      "\"Removed 48 row(s) containing missing values (geom_path).\""
     ]
    },
    {
     "data": {
      "text/html": [
       "<strong>png:</strong> 2"
      ],
      "text/latex": [
       "\\textbf{png:} 2"
      ],
      "text/markdown": [
       "**png:** 2"
      ],
      "text/plain": [
       "png \n",
       "  2 "
      ]
     },
     "metadata": {},
     "output_type": "display_data"
    },
    {
     "data": {
      "image/png": "[encoded data removed]",
      "text/plain": [
       "plot without title"
      ]
     },
     "metadata": {},
     "output_type": "display_data"
    }
   ],
   "source": [
    "options(repr.plot.width = 8, repr.plot.height = 5)\n",
    "\n",
    "prediction <- forecast(model, xreg = dju_ts, h = 12, level = c(80, 95))\n",
    "\n",
    "autoplot(prediction, xlim = c(2018, 2020), xlab = 'Temps', ylab = 'Consommation (MW)',\n",
    "         main = 'Prévision annuelle de la consommation avec erreurs du modèle SARIMAX(0, 0, 0)(1, 1, 0)[12]')\n",
    "\n",
    "dev.print(jpeg, '28. Prévision anuelle de la consommation avec erreurs du modèle SARIMAX(0, 0, 0)(1, 1, 0)[12].jpg', \n",
    "          quality = 100, units = 'px', width = 3000, height = 1500, res = 300)"
   ]
  },
  {
   "cell_type": "markdown",
   "metadata": {},
   "source": [
    "<a href=\"#sommaire\">Retour au sommaire</a>"
   ]
  }
 ],
 "metadata": {
  "kernelspec": {
   "display_name": "R",
   "language": "R",
   "name": "ir"
  },
  "language_info": {
   "codemirror_mode": "r",
   "file_extension": ".r",
   "mimetype": "text/x-r-source",
   "name": "R",
   "pygments_lexer": "r",
   "version": "3.6.1"
  }
 },
 "nbformat": 4,
 "nbformat_minor": 4
}
